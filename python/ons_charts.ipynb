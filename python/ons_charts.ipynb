{
 "cells": [
  {
   "cell_type": "markdown",
   "metadata": {},
   "source": [
    "# ONS Charts\n",
    "\n",
    "Created by Michael George (AKA Logiqx)\n",
    "\n",
    "Website: https://logiqx.github.io/covid-stats/"
   ]
  },
  {
   "cell_type": "markdown",
   "metadata": {},
   "source": [
    "## Imports\n",
    "\n",
    "Standard python libraries plus determination of projdir, basic printable class, etc"
   ]
  },
  {
   "cell_type": "code",
   "execution_count": 1,
   "metadata": {},
   "outputs": [],
   "source": [
    "import os\n",
    "\n",
    "import unittest\n",
    "\n",
    "import numpy as np\n",
    "import matplotlib.pyplot as plt\n",
    "import matplotlib.ticker as tck\n",
    "\n",
    "import common_core\n",
    "import ons_core"
   ]
  },
  {
   "cell_type": "markdown",
   "metadata": {},
   "source": [
    "## NumPy Helper Functions\n",
    "\n",
    "Useful functionality such as moving average or rolling sum"
   ]
  },
  {
   "cell_type": "code",
   "execution_count": 2,
   "metadata": {},
   "outputs": [],
   "source": [
    "def shiftRegistrations(data):\n",
    "    \"\"\"Shift registration data left by half a period\"\"\"\n",
    "    \n",
    "    # Final value is invalid (so not included in the convolution result) and needs to be zero\n",
    "    result = np.append(np.convolve(data, np.array([0.5, 0.5]), mode=\"valid\"), 0)\n",
    "    \n",
    "    return result"
   ]
  },
  {
   "cell_type": "code",
   "execution_count": 3,
   "metadata": {},
   "outputs": [
    {
     "name": "stderr",
     "output_type": "stream",
     "text": [
      ".\n",
      "----------------------------------------------------------------------\n",
      "Ran 1 test in 0.042s\n",
      "\n",
      "OK\n"
     ]
    }
   ],
   "source": [
    "class TestShiftRegistrations(unittest.TestCase):\n",
    "    '''Class to test rollingSum function'''   \n",
    "\n",
    "    def testShift(self):\n",
    "        '''Test processing of a list shorter than the window size'''\n",
    "\n",
    "        actual = shiftRegistrations(np.arange(6))\n",
    "        expected = np.array([0.5, 1.5, 2.5, 3.5, 4.5, 0])\n",
    "\n",
    "        self.assertEqual((actual == expected).all(), True)\n",
    "        \n",
    "if __name__ == '__main__':\n",
    "    unittest.main(argv=['first-arg-is-ignored'], exit=False)"
   ]
  },
  {
   "cell_type": "markdown",
   "metadata": {},
   "source": [
    "## Plot Data\n",
    "\n",
    "Simple plots of ONS data"
   ]
  },
  {
   "cell_type": "code",
   "execution_count": 4,
   "metadata": {},
   "outputs": [],
   "source": [
    "def prunePoints(x_points, y_points):\n",
    "    '''Remove leading and trailing zeros'''\n",
    "\n",
    "    start = np.where(y_points > 0)[0][0]\n",
    "    end = np.where(y_points > 0)[0][-1]\n",
    "    \n",
    "    return x_points[start:end + 1], y_points[start:end + 1]\n",
    "    \n",
    "\n",
    "def plotRegion(cache, areaName, fig, ax, startDate=None, stopDate=None):\n",
    "    '''Plot data for visual inspection'''\n",
    "    \n",
    "    areaData = cache[areaName]\n",
    "\n",
    "    ax.set_title(f\"Weekly Deaths in {areaName}\")\n",
    "    ax.set_ylabel('Number of deaths')\n",
    "\n",
    "    # Determine which rows need to be plotted\n",
    "    startIdx = np.where(areaData[ons_core.WEEK_ENDED] >= startDate)[0][0]\n",
    "    stopIdx = np.where(areaData[ons_core.WEEK_ENDED] < stopDate)[0][-1]\n",
    "\n",
    "    xMin = yMin = stopIdx\n",
    "    xMax = yMax = 0\n",
    "    \n",
    "    y_points = areaData[ons_core.TOTAL_REGISTRATIONS][startIdx:stopIdx+1]\n",
    "    x_points = np.arange(len(y_points))   \n",
    "    x_points, y_points = prunePoints(x_points, y_points)\n",
    "    ax.plot(x_points, y_points, label = \"Total Registrations\", color='navy', linestyle=\"dotted\")\n",
    "    xMax = max(xMax, max(x_points))\n",
    "    yMax = max(yMax, max(y_points))\n",
    "    \n",
    "    y_points = areaData[ons_core.TOTAL_OCCURRENCES][startIdx:stopIdx+1]\n",
    "    x_points = np.arange(len(y_points))       \n",
    "    x_points, y_points = prunePoints(x_points, y_points)\n",
    "    ax.plot(x_points, y_points, label = \"Total Occurrences\", color='navy')\n",
    "    xMin = min(xMin, min(x_points))\n",
    "    yMin = min(yMin, min(y_points))\n",
    "    xMax = max(xMax, max(x_points))\n",
    "    yMax = max(yMax, max(y_points))\n",
    "\n",
    "    y_points = areaData[ons_core.COVID_REGISTRATIONS][startIdx:stopIdx+1]\n",
    "    x_points = np.arange(len(y_points))       \n",
    "    x_points, y_points = prunePoints(x_points, y_points)\n",
    "    ax.plot(x_points, y_points, label = \"COVID-19 Registrations\", color='red', linestyle=\"dotted\")\n",
    "    xMin = min(xMin, min(x_points))\n",
    "    yMin = min(yMin, min(y_points))\n",
    "    xMax = max(xMax, max(x_points))\n",
    "    yMax = max(yMax, max(y_points))\n",
    "\n",
    "    y_points = areaData[ons_core.COVID_OCCURRENCES][startIdx:stopIdx+1]\n",
    "    x_points = np.arange(len(y_points))       \n",
    "    x_points, y_points = prunePoints(x_points, y_points)\n",
    "    ax.plot(x_points, y_points, label = \"COVID-19 Occurrences\", color='red')\n",
    "    xMin = min(xMin, min(x_points))\n",
    "    yMin = min(yMin, min(y_points))\n",
    "    xMax = max(xMax, max(x_points))\n",
    "    yMax = max(yMax, max(y_points))\n",
    "\n",
    "    # Determine y-axis labelling\n",
    "    yMax *= 1.1\n",
    "    if yMax > 10000:\n",
    "        interval = yMax // 10 // 1000 * 1000\n",
    "    elif yMax > 1000:\n",
    "        interval = yMax // 10 // 100 * 100\n",
    "    else:\n",
    "        interval = yMax // 10\n",
    "\n",
    "    ax.set_ylim(ymin=0, ymax=yMax)\n",
    "    ax.set_yticks(np.arange(0, yMax, interval))\n",
    "    ax.get_yaxis().set_major_formatter(tck.FuncFormatter(lambda x, p: format(int(x), ',')))\n",
    "\n",
    "    # Determine x-axis labelling\n",
    "    xticks = np.array(areaData[ons_core.WEEK_ENDED])[startIdx:stopIdx+1]\n",
    "    tickInterval = (stopIdx - startIdx) // 52\n",
    "\n",
    "    ax.set_xticks(np.arange(0, len(xticks), tickInterval))\n",
    "    ax.set_xticklabels(xticks[::tickInterval], rotation=90)\n",
    "\n",
    "    ax.legend()\n",
    "\n",
    "\n",
    "def plotRegions(cache, areaNames, startDate=None, stopDate=None):\n",
    "    '''Plot data for visual inspection'''\n",
    "    \n",
    "    # week_ended, week_number, total_registrations, covid_registrations, covid_occurrences\n",
    "    # week_ended, week_number, total_deaths\n",
    "\n",
    "    fig, axs = plt.subplots(len(areaNames), figsize=(16, 6 * len(areaNames)))\n",
    "    \n",
    "    for i in range(len(areaNames)):\n",
    "        areaName = areaNames[i]\n",
    "        areaData = cache[areaName]\n",
    "\n",
    "        if len(areaNames) == 1:\n",
    "            plotRegion(cache, areaName, fig, axs, startDate=startDate, stopDate=stopDate)\n",
    "        else:\n",
    "            plotRegion(cache, areaName, fig, axs[i], startDate=startDate, stopDate=stopDate)\n",
    "\n",
    "    plt.subplots_adjust(hspace=0.5)\n",
    "    plt.show(fig)"
   ]
  },
  {
   "cell_type": "markdown",
   "metadata": {},
   "source": [
    "## Interactive Testing"
   ]
  },
  {
   "cell_type": "code",
   "execution_count": 5,
   "metadata": {},
   "outputs": [],
   "source": [
    "if __name__ == '__main__':\n",
    "    \n",
    "    verbose = False\n",
    "    \n",
    "    cache = ons_core.loadCsvFiles(ons_core.ONS_DEATHS, \"weekly\", verbose = verbose)\n",
    "\n",
    "    areaNames = [\"England\", \"London\"] #, \"South East\", \"East of England\"]\n",
    "    #areaNames = [\"England\", \"Wales\"]\n",
    "\n",
    "    startDate = '2000-01-01'\n",
    "    stopDate = '2020-12-31'\n",
    "\n",
    "    #plotRegions(cache, areaNames, startDate=startDate, stopDate=stopDate)"
   ]
  },
  {
   "cell_type": "code",
   "execution_count": null,
   "metadata": {},
   "outputs": [],
   "source": []
  },
  {
   "cell_type": "code",
   "execution_count": null,
   "metadata": {},
   "outputs": [],
   "source": []
  }
 ],
 "metadata": {
  "kernelspec": {
   "display_name": "Python 3",
   "language": "python",
   "name": "python3"
  },
  "language_info": {
   "codemirror_mode": {
    "name": "ipython",
    "version": 3
   },
   "file_extension": ".py",
   "mimetype": "text/x-python",
   "name": "python",
   "nbconvert_exporter": "python",
   "pygments_lexer": "ipython3",
   "version": "3.7.3"
  }
 },
 "nbformat": 4,
 "nbformat_minor": 2
}
