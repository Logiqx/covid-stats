{
 "cells": [
  {
   "cell_type": "markdown",
   "metadata": {},
   "source": [
    "# ONS Charts\n",
    "\n",
    "Created by Michael George (AKA Logiqx)\n",
    "\n",
    "Website: https://logiqx.github.io/covid-stats/"
   ]
  },
  {
   "cell_type": "markdown",
   "metadata": {},
   "source": [
    "## Imports\n",
    "\n",
    "Standard python libraries plus determination of projdir, basic printable class, etc"
   ]
  },
  {
   "cell_type": "code",
   "execution_count": 1,
   "metadata": {},
   "outputs": [],
   "source": [
    "import os\n",
    "\n",
    "import numpy as np\n",
    "import matplotlib.pyplot as plt\n",
    "import matplotlib.ticker as tck\n",
    "\n",
    "import common_core\n",
    "import ons_core"
   ]
  },
  {
   "cell_type": "markdown",
   "metadata": {},
   "source": [
    "## Plot Data\n",
    "\n",
    "Simple plots of ONS data"
   ]
  },
  {
   "cell_type": "code",
   "execution_count": 2,
   "metadata": {},
   "outputs": [],
   "source": [
    "def plotData(cache, areaNames, maxWeeks = 52):\n",
    "    '''Plot data for visual inspection'''\n",
    "    \n",
    "    # week_ended, week_number, total_registrations, covid_registrations, covid_occurrences\n",
    "    # week_ended, week_number, total_deaths\n",
    "\n",
    "    fig, ax = plt.subplots(1, figsize=(16, 6))\n",
    "    \n",
    "    ewData = cache[common_core.ENGLAND_WALES]\n",
    "\n",
    "    for areaName in areaNames:\n",
    "        areaData = cache[areaName]\n",
    "\n",
    "        ax.set_title(f\"Weekly Deaths in {areaName}\")\n",
    "\n",
    "        ax.set_ylabel('Number of deaths')\n",
    "\n",
    "        y_points = areaData[ons_core.TOTAL_REGISTRATIONS][-maxWeeks:]\n",
    "        x_points = np.arange(len(y_points))       \n",
    "        ax.plot(x_points, y_points, label = \"Total Registrations\", color='navy', linestyle=\"dotted\")\n",
    "\n",
    "        yMax = max(y_points) * 1.1\n",
    "        ax.set_ylim(ymin=0, ymax=yMax)\n",
    "        ax.set_yticks(np.arange(0, yMax, 2000))\n",
    "\n",
    "        y_points = areaData[ons_core.TOTAL_OCCURRENCES][-maxWeeks:]\n",
    "        x_points = np.arange(len(y_points))       \n",
    "        ax.plot(x_points, y_points, label = \"Total Occurrences\", color='navy')\n",
    "\n",
    "        y_points = areaData[ons_core.COVID_REGISTRATIONS][-maxWeeks:]\n",
    "        x_points = np.arange(len(y_points))       \n",
    "        ax.plot(x_points, y_points, label = \"COVID-19 Registrations\", color='red', linestyle=\"dotted\")\n",
    "\n",
    "        y_points = areaData[ons_core.COVID_OCCURRENCES][-maxWeeks:]\n",
    "        x_points = np.arange(len(y_points))       \n",
    "        ax.plot(x_points, y_points, label = \"COVID-19 Occurrences\", color='red')\n",
    "\n",
    "        x_ticks = np.array(areaData[ons_core.WEEK_ENDED])[-maxWeeks:]\n",
    "        ax.set_xticks(np.arange(0, len(x_ticks)))\n",
    "        ax.set_xticklabels(x_ticks, rotation=90)\n",
    "\n",
    "        ax.get_yaxis().set_major_formatter(tck.FuncFormatter(lambda x, p: format(int(x), ',')))\n",
    "        \n",
    "        ax.legend()"
   ]
  },
  {
   "cell_type": "markdown",
   "metadata": {},
   "source": [
    "## Interactive Testing"
   ]
  },
  {
   "cell_type": "code",
   "execution_count": 3,
   "metadata": {},
   "outputs": [
    {
     "name": "stdout",
     "output_type": "stream",
     "text": [
      "Loading /home/jovyan/work/covid-stats/data/ons-deaths/csv/weekly/deaths/nation/england_wales.csv...\n",
      "Loading /home/jovyan/work/covid-stats/data/ons-deaths/csv/weekly/deaths/nation/england.csv...\n",
      "Loading /home/jovyan/work/covid-stats/data/ons-deaths/csv/weekly/deaths/nation/wales.csv...\n",
      "Loading /home/jovyan/work/covid-stats/data/ons-deaths/csv/weekly/deaths/region/north_east.csv...\n",
      "Loading /home/jovyan/work/covid-stats/data/ons-deaths/csv/weekly/deaths/region/north_west.csv...\n",
      "Loading /home/jovyan/work/covid-stats/data/ons-deaths/csv/weekly/deaths/region/yorkshire_humber.csv...\n",
      "Loading /home/jovyan/work/covid-stats/data/ons-deaths/csv/weekly/deaths/region/east_midlands.csv...\n",
      "Loading /home/jovyan/work/covid-stats/data/ons-deaths/csv/weekly/deaths/region/west_midlands.csv...\n",
      "Loading /home/jovyan/work/covid-stats/data/ons-deaths/csv/weekly/deaths/region/east_england.csv...\n",
      "Loading /home/jovyan/work/covid-stats/data/ons-deaths/csv/weekly/deaths/region/london.csv...\n",
      "Loading /home/jovyan/work/covid-stats/data/ons-deaths/csv/weekly/deaths/region/south_east.csv...\n",
      "Loading /home/jovyan/work/covid-stats/data/ons-deaths/csv/weekly/deaths/region/south_west.csv...\n"
     ]
    }
   ],
   "source": [
    "if __name__ == '__main__':\n",
    "    verbose = True\n",
    "    \n",
    "    cache = ons_core.loadWeeklyCsvFiles(verbose = verbose)\n",
    "\n",
    "    # Simple charts for review\n",
    "    areaNames = [common_core.ENGLAND_WALES]\n",
    "    plotData(cache, areaNames)"
   ]
  },
  {
   "cell_type": "code",
   "execution_count": null,
   "metadata": {},
   "outputs": [],
   "source": []
  }
 ],
 "metadata": {
  "kernelspec": {
   "display_name": "Python 3",
   "language": "python",
   "name": "python3"
  },
  "language_info": {
   "codemirror_mode": {
    "name": "ipython",
    "version": 3
   },
   "file_extension": ".py",
   "mimetype": "text/x-python",
   "name": "python",
   "nbconvert_exporter": "python",
   "pygments_lexer": "ipython3",
   "version": "3.7.3"
  }
 },
 "nbformat": 4,
 "nbformat_minor": 2
}
