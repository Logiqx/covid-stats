{
 "cells": [
  {
   "cell_type": "markdown",
   "metadata": {},
   "source": [
    "# ONS Charts\n",
    "\n",
    "Created by Michael George (AKA Logiqx)\n",
    "\n",
    "Website: https://logiqx.github.io/covid-stats/"
   ]
  },
  {
   "cell_type": "markdown",
   "metadata": {},
   "source": [
    "## Imports\n",
    "\n",
    "Standard python libraries plus determination of projdir, basic printable class, etc"
   ]
  },
  {
   "cell_type": "code",
   "execution_count": 1,
   "metadata": {},
   "outputs": [],
   "source": [
    "import os\n",
    "\n",
    "import csv\n",
    "import numpy as np\n",
    "import matplotlib.pyplot as plt\n",
    "import matplotlib.ticker as tck\n",
    "\n",
    "import common_core\n",
    "import ons_core"
   ]
  },
  {
   "cell_type": "markdown",
   "metadata": {},
   "source": [
    "## Load CSV Files\n",
    "\n",
    "Load CSV data into cache"
   ]
  },
  {
   "cell_type": "code",
   "execution_count": 2,
   "metadata": {},
   "outputs": [],
   "source": [
    "def loadCsvFile(areaType, areaName):\n",
    "    '''Load CSV file into numpy array'''\n",
    "    csvPath = os.path.join(common_core.projdir, \"data\", \"ons-deaths\", \"csv\", \"weekly\", \"deaths\", areaType)\n",
    "    csvFn = os.path.join(csvPath, common_core.getSafeName(areaName) + \".csv\")\n",
    "\n",
    "    try:\n",
    "        with open(csvFn, 'r') as f:\n",
    "            reader = csv.reader(f, delimiter = ',')\n",
    "\n",
    "            dtype = []\n",
    "            converters = {}\n",
    "            colNames = next(reader)\n",
    "\n",
    "            for i in range(len(colNames)):\n",
    "                colName = colNames[i]\n",
    "                if colName == ons_core.WEEK_ENDED:\n",
    "                    dtype.append((colName, \"U10\"))\n",
    "                else:\n",
    "                    dtype.append((colName, \"u4\"))\n",
    "                    converters[i] = lambda s: int(s or 0)\n",
    "\n",
    "            data = np.genfromtxt(f, dtype=dtype, converters=converters, delimiter=\",\")\n",
    "\n",
    "    except:\n",
    "        print(f\"Failed to load CSV data for {areaName}\")\n",
    "        raise\n",
    "        \n",
    "    return data\n",
    "\n",
    "\n",
    "def loadCsvFiles():\n",
    "    '''Convert weekly registrations into weekly occurrences'''\n",
    "    \n",
    "    cache = {}\n",
    "    \n",
    "    for nationName in [common_core.ENGLAND_WALES, common_core.WALES]:\n",
    "        cache[nationName] = loadCsvFile(\"nation\", nationName)\n",
    "\n",
    "    for regionName in common_core.regionNames:\n",
    "        cache[regionName] = loadCsvFile(\"region\", regionName)\n",
    "\n",
    "    return cache"
   ]
  },
  {
   "cell_type": "markdown",
   "metadata": {},
   "source": [
    "## Plot Data\n",
    "\n",
    "Simple plots of ONS data"
   ]
  },
  {
   "cell_type": "code",
   "execution_count": 3,
   "metadata": {},
   "outputs": [],
   "source": [
    "def plotData(cache, areaNames, maxWeeks = 52):\n",
    "    '''Plot data for visual inspection'''\n",
    "    \n",
    "    # week_ended, week_number, total_registrations, covid_registrations, covid_occurrences\n",
    "    # week_ended, week_number, total_deaths\n",
    "\n",
    "    fig, ax = plt.subplots(1, figsize=(16, 6))\n",
    "    \n",
    "    ewData = cache[common_core.ENGLAND_WALES]\n",
    "\n",
    "    for areaName in areaNames:\n",
    "        areaData = cache[areaName]\n",
    "\n",
    "        ax.set_title(f\"Weekly Deaths in {areaName}\")\n",
    "\n",
    "        ax.set_ylabel('Number of deaths')\n",
    "\n",
    "        y_points = areaData[ons_core.TOTAL_REGISTRATIONS][-maxWeeks:]\n",
    "        x_points = np.arange(len(y_points))       \n",
    "        ax.plot(x_points, y_points, label = \"Total Registrations\", color='navy', linestyle=\"dotted\")\n",
    "\n",
    "        y_points = areaData[ons_core.TOTAL_OCCURRENCES][-maxWeeks:]\n",
    "        x_points = np.arange(len(y_points))       \n",
    "        ax.plot(x_points, y_points, label = \"Total Occurrences\", color='navy')\n",
    "\n",
    "        y_points = areaData[ons_core.COVID_REGISTRATIONS][-maxWeeks:]\n",
    "        x_points = np.arange(len(y_points))       \n",
    "        ax.plot(x_points, y_points, label = \"COVID-19 Registrations\", color='red', linestyle=\"dotted\")\n",
    "\n",
    "        y_points = areaData[ons_core.COVID_OCCURRENCES][-maxWeeks:]\n",
    "        x_points = np.arange(len(y_points))       \n",
    "        ax.plot(x_points, y_points, label = \"COVID-19 Occurrences\", color='red')\n",
    "\n",
    "        x_ticks = np.array(areaData[ons_core.WEEK_ENDED])[-maxWeeks:]\n",
    "        ax.set_xticks(np.arange(0, len(x_ticks)))\n",
    "        ax.set_xticklabels(x_ticks, rotation=90)\n",
    "\n",
    "        ax.set_yticks(np.arange(0, 24000, 1000))\n",
    "        ax.get_yaxis().set_major_formatter(tck.FuncFormatter(lambda x, p: format(int(x), ',')))\n",
    "        \n",
    "        ax.legend()"
   ]
  },
  {
   "cell_type": "markdown",
   "metadata": {},
   "source": [
    "## Interactive Testing"
   ]
  },
  {
   "cell_type": "code",
   "execution_count": 4,
   "metadata": {},
   "outputs": [],
   "source": [
    "if __name__ == '__main__':\n",
    "    # Cache can either be re-used or loaded from CSV files\n",
    "    cache = loadCsvFiles()\n",
    "\n",
    "    # Simple charts for review\n",
    "    areaNames = [common_core.ENGLAND_WALES]\n",
    "    #plotData(cache, areaNames)"
   ]
  },
  {
   "cell_type": "code",
   "execution_count": null,
   "metadata": {},
   "outputs": [],
   "source": []
  }
 ],
 "metadata": {
  "kernelspec": {
   "display_name": "Python 3",
   "language": "python",
   "name": "python3"
  },
  "language_info": {
   "codemirror_mode": {
    "name": "ipython",
    "version": 3
   },
   "file_extension": ".py",
   "mimetype": "text/x-python",
   "name": "python",
   "nbconvert_exporter": "python",
   "pygments_lexer": "ipython3",
   "version": "3.7.3"
  }
 },
 "nbformat": 4,
 "nbformat_minor": 2
}
