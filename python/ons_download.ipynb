{
 "cells": [
  {
   "cell_type": "markdown",
   "metadata": {},
   "source": [
    "# ONS Download\n",
    "\n",
    "Created by Michael George (AKA Logiqx)\n",
    "\n",
    "Website: https://logiqx.github.io/covid-stats/"
   ]
  },
  {
   "cell_type": "markdown",
   "metadata": {},
   "source": [
    "## Imports\n",
    "\n",
    "Standard python libraries plus determination of projdir, basic printable class, etc"
   ]
  },
  {
   "cell_type": "code",
   "execution_count": 1,
   "metadata": {},
   "outputs": [],
   "source": [
    "import os\n",
    "\n",
    "import common_core\n",
    "import ons_core"
   ]
  },
  {
   "cell_type": "markdown",
   "metadata": {},
   "source": [
    "## Configuration\n",
    "\n",
    "Data to download from the ONS website"
   ]
  },
  {
   "cell_type": "code",
   "execution_count": 2,
   "metadata": {},
   "outputs": [],
   "source": [
    "deathsUrl = \"https://www.ons.gov.uk/peoplepopulationandcommunity/birthsdeathsandmarriages/deaths/datasets/weeklyprovisionalfiguresondeathsregisteredinenglandandwales\"\n",
    "deaths2021Url = \"https://www.ons.gov.uk/peoplepopulationandcommunity/birthsdeathsandmarriages/deaths/datasets/weeklyprovisionalfiguresondeathsregisteredinenglandandwales/2021\"\n",
    "\n",
    "deathsPath = os.path.join(common_core.dataDir, ons_core.ONS_DEATHS, \"raw\")\n",
    "\n",
    "deathsFiles = [\n",
    "    (\"weekly\", \".*\\.xlsx?$\")\n",
    "]"
   ]
  },
  {
   "cell_type": "code",
   "execution_count": 3,
   "metadata": {},
   "outputs": [],
   "source": [
    "lahbDeathsUrl = \"https://www.ons.gov.uk/peoplepopulationandcommunity/healthandsocialcare/causesofdeath/datasets/deathregistrationsandoccurrencesbylocalauthorityandhealthboard\"\n",
    "lahbDeaths2021Url = \"https://www.ons.gov.uk/peoplepopulationandcommunity/healthandsocialcare/causesofdeath/datasets/deathregistrationsandoccurrencesbylocalauthorityandhealthboard/2021\"\n",
    "\n",
    "lahbDeathsPath = os.path.join(common_core.dataDir, ons_core.ONS_LAHB_DEATHS, \"raw\")\n",
    "\n",
    "lahbDeathsFiles = [\n",
    "    (\"weekly\", \".*\\.xlsx?$\")\n",
    "]"
   ]
  },
  {
   "cell_type": "markdown",
   "metadata": {},
   "source": [
    "## Download Spreadsheets\n",
    "\n",
    "Download spreadsheets by parsing the HTML for suitable links"
   ]
  },
  {
   "cell_type": "code",
   "execution_count": 4,
   "metadata": {},
   "outputs": [],
   "source": [
    "def downloadDeaths(skipExisting=common_core.skipExisting, verbose=common_core.verbose):\n",
    "    \"\"\"Download spreadsheets from ONS website\"\"\"\n",
    "\n",
    "    # Remember the latest 2021 file\n",
    "    webDownload = common_core.WebDownload(skipExisting=skipExisting, verbose=verbose)\n",
    "    partNames = webDownload.downloadFiles(deathsPath, deaths2021Url, deathsFiles)[:1]\n",
    "\n",
    "    # Remember all files prior to 2021\n",
    "    webDownload = common_core.WebDownload(skipExisting=skipExisting, verbose=verbose)\n",
    "    partNames += webDownload.downloadFiles(deathsPath, deathsUrl, deathsFiles)[1:]\n",
    "\n",
    "    return partNames"
   ]
  },
  {
   "cell_type": "code",
   "execution_count": 5,
   "metadata": {},
   "outputs": [],
   "source": [
    "def downloadLocalAuthorityDeaths(skipExisting=common_core.skipExisting, verbose=common_core.verbose):\n",
    "    \"\"\"Download spreadsheets from ONS website\"\"\"\n",
    "\n",
    "    # Remember the latest 2021 file\n",
    "    webDownload = common_core.WebDownload(skipExisting=skipExisting, verbose=verbose)\n",
    "    partNames = webDownload.downloadFiles(lahbDeathsPath, lahbDeaths2021Url, lahbDeathsFiles)[:1]\n",
    "\n",
    "    # Remember all files prior to 2021\n",
    "    webDownload = common_core.WebDownload(skipExisting=skipExisting, verbose=verbose)\n",
    "    partNames += webDownload.downloadFiles(lahbDeathsPath, lahbDeathsUrl, lahbDeathsFiles)[1:]\n",
    "\n",
    "    return partNames"
   ]
  },
  {
   "cell_type": "markdown",
   "metadata": {},
   "source": [
    "## Interactive Testing"
   ]
  },
  {
   "cell_type": "code",
   "execution_count": 6,
   "metadata": {},
   "outputs": [
    {
     "name": "stdout",
     "output_type": "stream",
     "text": [
      "Skipping download of ons-deaths/raw/weekly/publishedweek332021.xlsx...\n",
      "Skipping download of ons-deaths/raw/weekly/publishedweek3220211.xlsx...\n",
      "Skipping download of ons-deaths/raw/weekly/publishedweek312021.xlsx...\n",
      "Skipping download of ons-deaths/raw/weekly/publishedweek302021.xlsx...\n",
      "Skipping download of ons-deaths/raw/weekly/publishedweek292021.xlsx...\n",
      "Skipping download of ons-deaths/raw/weekly/publishedweek282021.xlsx...\n",
      "Skipping download of ons-deaths/raw/weekly/publishedweek272021.xlsx...\n",
      "Skipping download of ons-deaths/raw/weekly/publishedweek2620211.xlsx...\n",
      "Skipping download of ons-deaths/raw/weekly/publishedweek252021.xlsx...\n",
      "Skipping download of ons-deaths/raw/weekly/publishedweek2420212.xlsx...\n",
      "Skipping download of ons-deaths/raw/weekly/publishedweek232021.xlsx...\n",
      "Skipping download of ons-deaths/raw/weekly/publishedweek222021.xlsx...\n",
      "Skipping download of ons-deaths/raw/weekly/publishedweek212021.xlsx...\n",
      "Skipping download of ons-deaths/raw/weekly/publishedweek202021.xlsx...\n",
      "Skipping download of ons-deaths/raw/weekly/publishedweek192021.xlsx...\n",
      "Skipping download of ons-deaths/raw/weekly/publishedweek1820211.xlsx...\n",
      "Skipping download of ons-deaths/raw/weekly/publishedweek172021.xlsx...\n",
      "Skipping download of ons-deaths/raw/weekly/publishedweek162021.xlsx...\n",
      "Skipping download of ons-deaths/raw/weekly/publishedweek152021.xlsx...\n",
      "Skipping download of ons-deaths/raw/weekly/publishedweek142021.xlsx...\n",
      "Skipping download of ons-deaths/raw/weekly/publishedweek1320211.xlsx...\n",
      "Skipping download of ons-deaths/raw/weekly/publishedweek122021.xlsx...\n",
      "Skipping download of ons-deaths/raw/weekly/publishedweek112021.xlsx...\n",
      "Skipping download of ons-deaths/raw/weekly/publishedweek102021.xlsx...\n",
      "Skipping download of ons-deaths/raw/weekly/publishedweek092021.xlsx...\n",
      "Skipping download of ons-deaths/raw/weekly/publishedweek082021.xlsx...\n",
      "Skipping download of ons-deaths/raw/weekly/publishedweek07202101032021165557.xlsx...\n",
      "Skipping download of ons-deaths/raw/weekly/publishedweek06202122022021175551.xlsx...\n",
      "Skipping download of ons-deaths/raw/weekly/publishedweek052021.xlsx...\n",
      "Skipping download of ons-deaths/raw/weekly/copyofpublishedweek042021.xlsx...\n",
      "Skipping download of ons-deaths/raw/weekly/publishedweek032021replacement.xlsx...\n",
      "Skipping download of ons-deaths/raw/weekly/publishedweek032021final.xlsx...\n",
      "Skipping download of ons-deaths/raw/weekly/publishedweek022021.xlsx...\n",
      "Skipping download of ons-deaths/raw/weekly/publishedweek012021.xlsx...\n",
      "Skipping download of ons-deaths/raw/weekly/publishedweek332021.xlsx...\n",
      "Skipping download of ons-deaths/raw/weekly/publishedweek532020.xlsx...\n",
      "Skipping download of ons-deaths/raw/weekly/publishedweek522019.xls...\n",
      "Skipping download of ons-deaths/raw/weekly/publishedweek522018withupdatedrespiratoryrow.xls...\n",
      "Skipping download of ons-deaths/raw/weekly/publishedweek522017.xls...\n",
      "Skipping download of ons-deaths/raw/weekly/publishedweek522016.xls...\n",
      "Skipping download of ons-deaths/raw/weekly/publishedweek2015.xls...\n",
      "Skipping download of ons-deaths/raw/weekly/publishedweek2014.xls...\n",
      "Skipping download of ons-deaths/raw/weekly/publishedweek2013.xls...\n",
      "Skipping download of ons-deaths/raw/weekly/publishedweek2012.xls...\n",
      "Skipping download of ons-deaths/raw/weekly/publishedweek2011.xls...\n",
      "Skipping download of ons-deaths/raw/weekly/publishedweek2010.xls...\n",
      "Skipping download of ons-lahb-deaths/raw/weekly/lahbtables2021week33.xlsx...\n",
      "Skipping download of ons-lahb-deaths/raw/weekly/lahbtables2021week32.xlsx...\n",
      "Skipping download of ons-lahb-deaths/raw/weekly/lahbtables2021week31.xlsx...\n",
      "Skipping download of ons-lahb-deaths/raw/weekly/lahbtables2021week30.xlsx...\n",
      "Skipping download of ons-lahb-deaths/raw/weekly/lahbtables2021week29.xlsx...\n",
      "Skipping download of ons-lahb-deaths/raw/weekly/lahbtables2021week28.xlsx...\n",
      "Skipping download of ons-lahb-deaths/raw/weekly/lahbtables2021week27.xlsx...\n",
      "Skipping download of ons-lahb-deaths/raw/weekly/lahbtables2021week261.xlsx...\n",
      "Skipping download of ons-lahb-deaths/raw/weekly/lahbtables2021week25.xlsx...\n",
      "Skipping download of ons-lahb-deaths/raw/weekly/lahbtables2021week24.xlsx...\n",
      "Skipping download of ons-lahb-deaths/raw/weekly/lahbtables2021week23.xlsx...\n",
      "Skipping download of ons-lahb-deaths/raw/weekly/lahbtables2021week221.xlsx...\n",
      "Skipping download of ons-lahb-deaths/raw/weekly/lahbtables2021week21.xlsx...\n",
      "Skipping download of ons-lahb-deaths/raw/weekly/lahbtables2021week201.xlsx...\n",
      "Skipping download of ons-lahb-deaths/raw/weekly/lahbtables2021week192.xlsx...\n",
      "Skipping download of ons-lahb-deaths/raw/weekly/lahbtables2021week18.xlsx...\n",
      "Skipping download of ons-lahb-deaths/raw/weekly/lahbtables2021week17.xlsx...\n",
      "Skipping download of ons-lahb-deaths/raw/weekly/lahbtables2021week16.xlsx...\n",
      "Skipping download of ons-lahb-deaths/raw/weekly/lahbtables2021week15.xlsx...\n",
      "Skipping download of ons-lahb-deaths/raw/weekly/lahbtables2021week14.xlsx...\n",
      "Skipping download of ons-lahb-deaths/raw/weekly/lahbtables2021week13.xlsx...\n",
      "Skipping download of ons-lahb-deaths/raw/weekly/lahbtables2021week12.xlsx...\n",
      "Skipping download of ons-lahb-deaths/raw/weekly/lahbtables2021week11.xlsx...\n",
      "Skipping download of ons-lahb-deaths/raw/weekly/lahbtables2021week10.xlsx...\n",
      "Skipping download of ons-lahb-deaths/raw/weekly/lahbtables2021week9.xlsx...\n",
      "Skipping download of ons-lahb-deaths/raw/weekly/lahbtables2021week8.xlsx...\n",
      "Skipping download of ons-lahb-deaths/raw/weekly/lahbtables2021week7.xlsx...\n",
      "Skipping download of ons-lahb-deaths/raw/weekly/lahbtables2021week6.xlsx...\n",
      "Skipping download of ons-lahb-deaths/raw/weekly/lahbtables2021week6.xlsx...\n",
      "Skipping download of ons-lahb-deaths/raw/weekly/lahbtablesweek01to532020datawk62021.xlsx...\n",
      "Skipping download of ons-lahb-deaths/raw/weekly/lahbtables2021week6.xlsx...\n",
      "Skipping download of ons-lahb-deaths/raw/weekly/lahbtables2021week5.xlsx...\n",
      "Skipping download of ons-lahb-deaths/raw/weekly/lahbtables2021week4.xlsx...\n",
      "Skipping download of ons-lahb-deaths/raw/weekly/lahbtablesweek01to5320201.xlsx...\n",
      "Skipping download of ons-lahb-deaths/raw/weekly/lahbtables2021week4.xlsx...\n",
      "Skipping download of ons-lahb-deaths/raw/weekly/lahbtables2021week3final.xlsx...\n",
      "Skipping download of ons-lahb-deaths/raw/weekly/lahbtables2021week2.xlsx...\n",
      "Skipping download of ons-lahb-deaths/raw/weekly/lahbtables2021week1.xlsx...\n",
      "Skipping download of ons-lahb-deaths/raw/weekly/lahbtables2021week33.xlsx...\n",
      "Skipping download of ons-lahb-deaths/raw/weekly/lahbtablesweek01to532020datawk232021.xlsx...\n"
     ]
    }
   ],
   "source": [
    "if __name__ == '__main__':\n",
    "\n",
    "    partNames = downloadDeaths(verbose = True)\n",
    "    partNames += downloadLocalAuthorityDeaths(verbose = True)"
   ]
  },
  {
   "cell_type": "code",
   "execution_count": null,
   "metadata": {},
   "outputs": [],
   "source": []
  }
 ],
 "metadata": {
  "kernelspec": {
   "display_name": "Python 3",
   "language": "python",
   "name": "python3"
  },
  "language_info": {
   "codemirror_mode": {
    "name": "ipython",
    "version": 3
   },
   "file_extension": ".py",
   "mimetype": "text/x-python",
   "name": "python",
   "nbconvert_exporter": "python",
   "pygments_lexer": "ipython3",
   "version": "3.8.8"
  }
 },
 "nbformat": 4,
 "nbformat_minor": 2
}
