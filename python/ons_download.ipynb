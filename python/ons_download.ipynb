{
 "cells": [
  {
   "cell_type": "markdown",
   "metadata": {},
   "source": [
    "# ONS Download\n",
    "\n",
    "Created by Michael George (AKA Logiqx)\n",
    "\n",
    "Website: https://logiqx.github.io/covid-stats/"
   ]
  },
  {
   "cell_type": "markdown",
   "metadata": {},
   "source": [
    "## Imports\n",
    "\n",
    "Standard python libraries plus determination of projdir, basic printable class, etc"
   ]
  },
  {
   "cell_type": "code",
   "execution_count": 1,
   "metadata": {},
   "outputs": [],
   "source": [
    "import os\n",
    "\n",
    "import common_core\n",
    "import ons_core"
   ]
  },
  {
   "cell_type": "markdown",
   "metadata": {},
   "source": [
    "## Configuration\n",
    "\n",
    "Data to download from the ONS website"
   ]
  },
  {
   "cell_type": "code",
   "execution_count": 2,
   "metadata": {},
   "outputs": [],
   "source": [
    "deathsUrl = \"https://www.ons.gov.uk/peoplepopulationandcommunity/birthsdeathsandmarriages/deaths/datasets/weeklyprovisionalfiguresondeathsregisteredinenglandandwales\"\n",
    "\n",
    "deathsPath = os.path.join(common_core.dataDir, ons_core.ONS_DEATHS, \"raw\")\n",
    "\n",
    "deathsFiles = [\n",
    "    (\"weekly\", \".*\\.xlsx?$\")\n",
    "]"
   ]
  },
  {
   "cell_type": "code",
   "execution_count": 3,
   "metadata": {},
   "outputs": [],
   "source": [
    "lahbDeathsUrl = \"https://www.ons.gov.uk/peoplepopulationandcommunity/healthandsocialcare/causesofdeath/datasets/deathregistrationsandoccurrencesbylocalauthorityandhealthboard\"\n",
    "\n",
    "lahbDeathsPath = os.path.join(common_core.dataDir, ons_core.ONS_LAHB_DEATHS, \"raw\")\n",
    "\n",
    "lahbDeathsFiles = [\n",
    "    (\"weekly\", \".*\\.xlsx?$\")\n",
    "]"
   ]
  },
  {
   "cell_type": "markdown",
   "metadata": {},
   "source": [
    "## Download Spreadsheets\n",
    "\n",
    "Download spreadsheets by parsing the HTML for suitable links"
   ]
  },
  {
   "cell_type": "code",
   "execution_count": 4,
   "metadata": {},
   "outputs": [],
   "source": [
    "def downloadDeaths(skipExisting=common_core.skipExisting, verbose=common_core.verbose):\n",
    "    \"\"\"Download spreadsheets from ONS website\"\"\"\n",
    "\n",
    "    webDownload = common_core.WebDownload(skipExisting=skipExisting, verbose=verbose)\n",
    "    partNames = webDownload.downloadFiles(deathsPath, deathsUrl, deathsFiles)\n",
    "\n",
    "    return partNames"
   ]
  },
  {
   "cell_type": "code",
   "execution_count": 5,
   "metadata": {},
   "outputs": [],
   "source": [
    "def downloadLocalAuthorityDeaths(skipExisting=common_core.skipExisting, verbose=common_core.verbose):\n",
    "    \"\"\"Download spreadsheets from ONS website\"\"\"\n",
    "\n",
    "    webDownload = common_core.WebDownload(skipExisting=skipExisting, verbose=verbose)\n",
    "    partNames = webDownload.downloadFiles(lahbDeathsPath, lahbDeathsUrl, lahbDeathsFiles)\n",
    "\n",
    "    return partNames"
   ]
  },
  {
   "cell_type": "markdown",
   "metadata": {},
   "source": [
    "## Interactive Testing"
   ]
  },
  {
   "cell_type": "code",
   "execution_count": 6,
   "metadata": {},
   "outputs": [
    {
     "name": "stdout",
     "output_type": "stream",
     "text": [
      "Skipping download of ons-deaths/raw/weekly/publishedweek052021.xlsx...\n",
      "Skipping download of ons-deaths/raw/weekly/publishedweek532020.xlsx...\n",
      "Skipping download of ons-deaths/raw/weekly/publishedweek522019.xls...\n",
      "Skipping download of ons-deaths/raw/weekly/publishedweek522018withupdatedrespiratoryrow.xls...\n",
      "Skipping download of ons-deaths/raw/weekly/publishedweek522017.xls...\n",
      "Skipping download of ons-deaths/raw/weekly/publishedweek522016.xls...\n",
      "Skipping download of ons-deaths/raw/weekly/publishedweek2015.xls...\n",
      "Skipping download of ons-deaths/raw/weekly/publishedweek2014.xls...\n",
      "Skipping download of ons-deaths/raw/weekly/publishedweek2013.xls...\n",
      "Skipping download of ons-deaths/raw/weekly/publishedweek2012.xls...\n",
      "Skipping download of ons-deaths/raw/weekly/publishedweek2011.xls...\n",
      "Skipping download of ons-deaths/raw/weekly/publishedweek2010.xls...\n",
      "Downloading ons-lahb-deaths/raw/weekly/lahbtables2021week5.xlsx...\n",
      "Downloading ons-lahb-deaths/raw/weekly/lahbtablesweek01to532020datawk52021.xlsx...\n"
     ]
    }
   ],
   "source": [
    "if __name__ == '__main__':\n",
    "\n",
    "    partNames = downloadDeaths(verbose = True)\n",
    "    partNames += downloadLocalAuthorityDeaths(verbose = True)"
   ]
  },
  {
   "cell_type": "code",
   "execution_count": null,
   "metadata": {},
   "outputs": [],
   "source": []
  }
 ],
 "metadata": {
  "kernelspec": {
   "display_name": "Python 3",
   "language": "python",
   "name": "python3"
  },
  "language_info": {
   "codemirror_mode": {
    "name": "ipython",
    "version": 3
   },
   "file_extension": ".py",
   "mimetype": "text/x-python",
   "name": "python",
   "nbconvert_exporter": "python",
   "pygments_lexer": "ipython3",
   "version": "3.7.3"
  }
 },
 "nbformat": 4,
 "nbformat_minor": 2
}
