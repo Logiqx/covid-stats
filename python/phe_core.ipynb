{
 "cells": [
  {
   "cell_type": "markdown",
   "metadata": {},
   "source": [
    "# PHE Core\n",
    "\n",
    "Created by Michael George (AKA Logiqx)\n",
    "\n",
    "Website: https://logiqx.github.io/covid-stats/"
   ]
  },
  {
   "cell_type": "markdown",
   "metadata": {},
   "source": [
    "## Imports\n",
    "\n",
    "Standard python libraries plus determination of projdir, basic printable class, etc"
   ]
  },
  {
   "cell_type": "code",
   "execution_count": 1,
   "metadata": {},
   "outputs": [],
   "source": [
    "import os\n",
    "\n",
    "import common_core"
   ]
  },
  {
   "cell_type": "markdown",
   "metadata": {},
   "source": [
    "## Configuration\n",
    "\n",
    "Data to download via the API - cases, patients, deaths"
   ]
  },
  {
   "cell_type": "code",
   "execution_count": 2,
   "metadata": {},
   "outputs": [],
   "source": [
    "PHE_DASHBOARD = \"phe-dashboard\""
   ]
  },
  {
   "cell_type": "code",
   "execution_count": 3,
   "metadata": {},
   "outputs": [],
   "source": [
    "# The 4 nations in the UK\n",
    "nationNames = [common_core.ENGLAND, common_core.SCOTLAND, common_core.WALES, common_core.NORTHERN_IRELAND]\n",
    "\n",
    "# The 9 regions in England\n",
    "regionNames = common_core.regionNames\n",
    "\n",
    "# The 7 NHS regions in England\n",
    "nhsRegionNames = common_core.nhsRegionNames\n",
    "\n",
    "# A selection of lower tier local authorities in Dorset, Hertfordshire, Birmingham, Derbyshire and London (LTLA)\n",
    "ltlaNames = [\"Dorset\", \"Bournemouth, Christchurch and Poole\",\n",
    "             \"Stevenage\", \"Welwyn Hatfield\", \"North Hertfordshire\", \"East Hertfordshire\",\n",
    "             \"Sandwell\", \"Dudley\", \"Birmingham\",\n",
    "             \"Derbyshire Dales\", \"North East Derbyshire\", \"High Peak\", \"Sheffield\",\n",
    "             \"Croydon\"]\n",
    "\n",
    "# Combine all of these area types into a single list\n",
    "areas = [(\"overview\", [common_core.UNITED_KINGDOM]), (\"nation\", nationNames), (\"region\", regionNames), (\"nhsregion\", nhsRegionNames), (\"ltla\", ltlaNames)]"
   ]
  },
  {
   "cell_type": "code",
   "execution_count": 4,
   "metadata": {},
   "outputs": [],
   "source": [
    "casesStructure = {\n",
    "    \"cases\": \"newCasesBySpecimenDate\", # Cases by specimen date\n",
    "    \"casesRollingRate\": \"newCasesBySpecimenDateRollingRate\", # Rate of cases per 100K population in 7 day period\n",
    "    \"casesAgeDemographics\": \"newCasesBySpecimenDateAgeDemographics\", # Demographics - 5 year age bands\n",
    "    \"casesReported\": \"newCasesByPublishDate\" # Cases by date reported\n",
    "}\n",
    "\n",
    "patientsStructure = {\n",
    "    \"admissions\": \"newAdmissions\", # Patients admitted to hospital\n",
    "    \"admissionsRollingRate\": \"newAdmissionsRollingRate\", # Rate of admissions per 100K population in 7 day period\n",
    "    \"patients\": \"hospitalCases\", # Patients in hospital\n",
    "    \"patientsMv\": \"covidOccupiedMVBeds\", # Patients in mechanical ventilation beds\n",
    "    \"cumAdmissionsByAge\": \"cumAdmissionsByAge\" # Demographics - 05-, 6-17, 18-64, 65-84, 85+\n",
    "}\n",
    "\n",
    "deathsStructure = {\n",
    "    \"deaths\": \"newDeaths28DaysByDeathDate\", # Deaths within 28d of +ve test by date of death\n",
    "    \"deathsRollingRate\": \"newDeaths28DaysByDeathDateRollingRate\", # Rate of deaths per 100K population in 7 day period\n",
    "    \"deathsAgeDemographics\": \"newDeaths28DaysByDeathDateAgeDemographics\", # Demographics - 5 year age bands\n",
    "    \"deathsReported\": \"newDeaths28DaysByPublishDate\" # Deaths within 28d of +ve test by date reported\n",
    "}\n",
    "\n",
    "onsStructure = {\n",
    "    \"deathsRegistered\": \"newOnsDeathsByRegistrationDate\" # COVID-19 on the death certificate\n",
    "}"
   ]
  },
  {
   "cell_type": "code",
   "execution_count": 5,
   "metadata": {},
   "outputs": [],
   "source": [
    "ageDemographics = [\n",
    "    '00_04', '05_09', '10_14', '15_19', '20_24', '25_29',\n",
    "    '30_34', '35_39', '40_44', '45_49', '50_54', '55_59',\n",
    "    '60_64', '65_69', '70_74', '75_79', '80_84', '85_89', '90+'\n",
    "]\n",
    "\n",
    "admissionDemographics = [\n",
    "    '0_to_5', '6_to_17', '18_to_64', '65_to_84', '85+'\n",
    "]"
   ]
  }
 ],
 "metadata": {
  "kernelspec": {
   "display_name": "Python 3",
   "language": "python",
   "name": "python3"
  },
  "language_info": {
   "codemirror_mode": {
    "name": "ipython",
    "version": 3
   },
   "file_extension": ".py",
   "mimetype": "text/x-python",
   "name": "python",
   "nbconvert_exporter": "python",
   "pygments_lexer": "ipython3",
   "version": "3.7.3"
  }
 },
 "nbformat": 4,
 "nbformat_minor": 2
}
