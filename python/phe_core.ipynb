{
 "cells": [
  {
   "cell_type": "markdown",
   "metadata": {},
   "source": [
    "# PHE Core\n",
    "\n",
    "Created by Michael George (AKA Logiqx)\n",
    "\n",
    "Website: https://logiqx.github.io/covid-stats/"
   ]
  },
  {
   "cell_type": "markdown",
   "metadata": {},
   "source": [
    "## Imports\n",
    "\n",
    "Standard python libraries plus determination of projdir, basic printable class, etc"
   ]
  },
  {
   "cell_type": "code",
   "execution_count": 1,
   "metadata": {},
   "outputs": [],
   "source": [
    "import os\n",
    "\n",
    "import common_core"
   ]
  },
  {
   "cell_type": "markdown",
   "metadata": {},
   "source": [
    "## Configuration\n",
    "\n",
    "Data to download via the API - cases, patients, deaths"
   ]
  },
  {
   "cell_type": "code",
   "execution_count": 2,
   "metadata": {},
   "outputs": [],
   "source": [
    "PHE_DASHBOARD = \"phe-dashboard\""
   ]
  },
  {
   "cell_type": "code",
   "execution_count": 3,
   "metadata": {},
   "outputs": [],
   "source": [
    "# The 4 nations in the UK, combined\n",
    "overviewNames = [common_core.UNITED_KINGDOM]\n",
    "\n",
    "# The 4 nations in the UK, individually\n",
    "nationNames = [common_core.ENGLAND, common_core.SCOTLAND, common_core.WALES, common_core.NORTHERN_IRELAND]\n",
    "\n",
    "# A selection of lower tier local authorities in Dorset, Hertfordshire, Birmingham, Derbyshire and London (LTLA)\n",
    "ltlaNames = [\"Dorset\", \"Bournemouth, Christchurch and Poole\",\n",
    "             \"Stevenage\", \"Welwyn Hatfield\", \"North Hertfordshire\", \"East Hertfordshire\",\n",
    "             \"Sandwell\", \"Dudley\", \"Birmingham\",\n",
    "             \"Derbyshire Dales\", \"North East Derbyshire\", \"High Peak\", \"Sheffield\",\n",
    "             \"Croydon\",\n",
    "             \"Southampton\"]\n",
    "\n",
    "# Combine all of these area types into a single list\n",
    "areas = \\\n",
    "[\n",
    "    (\"overview\", overviewNames),\n",
    "    (\"nation\", nationNames),\n",
    "    (\"region\", common_core.regionNames),\n",
    "    (\"nhsregion\", common_core.nhsRegionNames),\n",
    "    (\"ltla\", ltlaNames)\n",
    "]"
   ]
  },
  {
   "cell_type": "code",
   "execution_count": 4,
   "metadata": {},
   "outputs": [],
   "source": [
    "casesStructure = {\n",
    "    \"cases\": \"newCasesBySpecimenDate\", # Cases by specimen date\n",
    "    \"casesRollingRate\": \"newCasesBySpecimenDateRollingRate\", # Rate of cases per 100K population in 7 day period\n",
    "    \"casesAgeDemographics\": \"newCasesBySpecimenDateAgeDemographics\", # Demographics - 5 year age bands\n",
    "    \"casesReported\": \"newCasesByPublishDate\" # Cases by date reported\n",
    "}\n",
    "\n",
    "patientsStructure = {\n",
    "    \"admissions\": \"newAdmissions\", # Patients admitted to hospital\n",
    "    \"admissionsRollingRate\": \"newAdmissionsRollingRate\", # Rate of admissions per 100K population in 7 day period\n",
    "    \"patients\": \"hospitalCases\", # Patients in hospital\n",
    "    \"patientsMv\": \"covidOccupiedMVBeds\", # Patients in mechanical ventilation beds\n",
    "    \"cumAdmissionsByAge\": \"cumAdmissionsByAge\" # Demographics - 05-, 6-17, 18-64, 65-84, 85+\n",
    "}\n",
    "\n",
    "deathsStructure = {\n",
    "    \"deaths\": \"newDeaths28DaysByDeathDate\", # Deaths within 28d of +ve test by date of death\n",
    "    \"deathsRollingRate\": \"newDeaths28DaysByDeathDateRollingRate\", # Rate of deaths per 100K population in 7 day period\n",
    "    \"deathsAgeDemographics\": \"newDeaths28DaysByDeathDateAgeDemographics\", # Demographics - 5 year age bands\n",
    "    \"deathsReported\": \"newDeaths28DaysByPublishDate\" # Deaths within 28d of +ve test by date reported\n",
    "}\n",
    "\n",
    "onsStructure = {\n",
    "    \"deathsRegistered\": \"newOnsDeathsByRegistrationDate\" # COVID-19 on the death certificate\n",
    "}"
   ]
  },
  {
   "cell_type": "code",
   "execution_count": 5,
   "metadata": {},
   "outputs": [],
   "source": [
    "ageDemographics = [\n",
    "    '00_04', '05_09', '10_14', '15_19', '20_24', '25_29',\n",
    "    '30_34', '35_39', '40_44', '45_49', '50_54', '55_59',\n",
    "    '60_64', '65_69', '70_74', '75_79', '80_84', '85_89', '90+'\n",
    "]\n",
    "\n",
    "admissionDemographics = [\n",
    "    '0_to_5', '6_to_17', '18_to_64', '65_to_84', '85+'\n",
    "]\n",
    "\n",
    "customDemographics12 = {\n",
    "    'under 25': ['00_04', '05_09', '10_14', '15_19', '20_24'],\n",
    "    '25-39':    ['25_29', '30_34', '35_39'],\n",
    "    '40-49':    ['40_44', '45_49'],\n",
    "    '50-54':    ['50_54'],\n",
    "    '55-59':    ['55_59'],\n",
    "    '60-64':    ['60_64'],\n",
    "    '65-69':    ['65_69'],\n",
    "    '70-74':    ['70_74'],\n",
    "    '75-79':    ['75_79'],\n",
    "    '80-84':    ['80_84'],\n",
    "    '85-89':    ['85_89'],\n",
    "    '90+':      ['90']\n",
    "}\n",
    "\n",
    "customDemographics8 = {\n",
    "    'under 50': ['00_04', '05_09', '10_14', '15_19', '20_24', '25_29', '30_34', '35_39', '40_44', '45_49'],\n",
    "    '50-59':    ['50_54', '55_59'],\n",
    "    '60-64':    ['60_64'],\n",
    "    '65-69':    ['65_69'],\n",
    "    '70-74':    ['70_74'],\n",
    "    '75-79':    ['75_79'],\n",
    "    '80-84':    ['80_84'],\n",
    "    '85+':      ['85_89', '90']\n",
    "}\n",
    "\n",
    "customDemographics6 = {\n",
    "    'under 40': ['00_04', '05_09', '10_14', '15_19', '20_24', '25_29', '30_34', '35_39'],\n",
    "    '40-59':    ['40_44', '45_49', '50_54', '55_59'],\n",
    "    '60-69':    ['60_64', '65_69'],\n",
    "    '70-79':    ['70_74', '75_79'],\n",
    "    '80-89':    ['80_84', '85_89'],\n",
    "    '90+':      ['90']\n",
    "}\n",
    "\n",
    "nhsDemographics = {\n",
    "    'under 18': ['00_05', '06_17'],\n",
    "    '18-64':    ['18_64'],\n",
    "    '65-84':    ['65_84'],\n",
    "    '85+':      ['85']\n",
    "}"
   ]
  }
 ],
 "metadata": {
  "kernelspec": {
   "display_name": "Python 3",
   "language": "python",
   "name": "python3"
  },
  "language_info": {
   "codemirror_mode": {
    "name": "ipython",
    "version": 3
   },
   "file_extension": ".py",
   "mimetype": "text/x-python",
   "name": "python",
   "nbconvert_exporter": "python",
   "pygments_lexer": "ipython3",
   "version": "3.7.3"
  }
 },
 "nbformat": 4,
 "nbformat_minor": 2
}
