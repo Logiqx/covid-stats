{
 "cells": [
  {
   "cell_type": "markdown",
   "metadata": {},
   "source": [
    "# PHE Daily Cases\n",
    "\n",
    "Created by Michael George (AKA Logiqx)\n",
    "\n",
    "Website: https://logiqx.github.io/covid-stats/"
   ]
  },
  {
   "cell_type": "markdown",
   "metadata": {},
   "source": [
    "## PHE Core\n",
    "\n",
    "Import library for working with PHE data"
   ]
  },
  {
   "cell_type": "code",
   "execution_count": 9,
   "metadata": {},
   "outputs": [],
   "source": [
    "import numpy as np\n",
    "import matplotlib.pyplot as plt\n",
    "from scipy.signal import savgol_filter\n",
    "\n",
    "import phe_core"
   ]
  },
  {
   "cell_type": "markdown",
   "metadata": {},
   "source": [
    "## Analyse Daily Cases"
   ]
  },
  {
   "cell_type": "code",
   "execution_count": 12,
   "metadata": {},
   "outputs": [],
   "source": [
    "class AreaWip(phe_core.Area):\n",
    "\n",
    "    def test(self):\n",
    "        print(self.areaName)\n",
    "        \n",
    "    def load(self, dirName):\n",
    "        \"\"\"Load demographic data - cases or deaths\"\"\"\n",
    "\n",
    "        fieldPrefixes = [dirName, \"rollingRate\", \"rollingSum\"]\n",
    "        self.rows = {}\n",
    "        for fieldPrefix in fieldPrefixes:\n",
    "            self.rows[fieldPrefix] = []\n",
    "        self.dates = []\n",
    "\n",
    "        try:\n",
    "            csvPath = os.path.join(projdir, \"data\", \"phe-dashboard\", \"csv\", dirName, \"demographics\", self.areaType)\n",
    "            csvFn = os.path.join(csvPath, self.csvName)\n",
    "\n",
    "            # Generate the CSV from raw data\n",
    "            with open(csvFn, 'r') as f:\n",
    "                reader = csv.reader(f, delimiter = ',')\n",
    "                rowNo = 0\n",
    "                for row in reader:\n",
    "                    rows = {}\n",
    "                    for fieldPrefix in fieldPrefixes:\n",
    "                        rows[fieldPrefix] = []\n",
    "                    \n",
    "                    if rowNo == 0:\n",
    "                        self.colNames = row\n",
    "                        #print(row)\n",
    "                    else:\n",
    "                        self.dates.append(row[0])\n",
    "\n",
    "                        for i in range(len(row)):\n",
    "                            for fieldPrefix in fieldPrefixes:\n",
    "                                if self.colNames[i].startswith(fieldPrefix):\n",
    "                                    if fieldPrefix == \"cases\":\n",
    "                                        rows[fieldPrefix].append(int(row[i]))\n",
    "                                    else:\n",
    "                                        rows[fieldPrefix].append(row[i])\n",
    "\n",
    "                        for fieldPrefix in fieldPrefixes:\n",
    "                            self.rows[fieldPrefix].append(rows[fieldPrefix])\n",
    "\n",
    "                    rowNo += 1\n",
    "                   \n",
    "        # General catch all\n",
    "        except:\n",
    "            print(f\"Failed to load {dirName} for {self.areaName}\")\n",
    "            raise\n",
    "\n",
    "\n",
    "    def loadCases(self):\n",
    "        \"\"\"Load cases by specimen date age demographics\"\"\"\n",
    "\n",
    "        self.load(\"cases\")\n",
    "            \n",
    "\n",
    "    def loadDeaths(self):\n",
    "        \"\"\"Load deaths within 28 days of positive test by date of death age demographics\"\"\"\n",
    "\n",
    "        self.load(\"deaths\")\n",
    "\n",
    "\n",
    "    def plotCases(self):\n",
    "        \"\"\"Plot cases by specimen date age demographics\"\"\"\n",
    "        \n",
    "        x_points = np.arange(len(self.rows['cases']))\n",
    "        y_points = np.array(self.rows['cases'])\n",
    "\n",
    "        # Create new figure\n",
    "        plt.figure(figsize=(16, 9))  \n",
    "        \n",
    "        # Plot data\n",
    "        for plot in range(len(self.rows['cases'][0])):\n",
    "            y_smooth = savgol_filter(y_points[:, plot], 51, 5)\n",
    "            plt.plot(x_points, y_points[:, plot], label = 'raw') #, color='green', linewidth=2)\n",
    "            plt.plot(x_points, y_smooth, label = 'raw') #, color='green', linewidth=2)\n",
    "\n",
    "        # Set xticks\n",
    "        plt.xticks(np.arange(0, len(self.dates) - 1, step=7), self.dates[::7], rotation=90)\n",
    "        \n",
    "        # Add title, axis labels and legend\n",
    "        plt.title('Daily Cases Test')\n",
    "        plt.ylabel('Number of cases')\n",
    "        plt.legend()\n",
    "\n",
    "        \n",
    "        # Show figure\n",
    "        plt.show()"
   ]
  },
  {
   "cell_type": "code",
   "execution_count": 11,
   "metadata": {},
   "outputs": [
    {
     "name": "stdout",
     "output_type": "stream",
     "text": [
      "--- Daily Data ---\n",
      "England\n",
      "North West\n",
      "North East\n",
      "Yorkshire and The Humber\n",
      "West Midlands\n",
      "East Midlands\n",
      "East of England\n",
      "London\n",
      "South East\n",
      "South West\n",
      "North West\n",
      "North East and Yorkshire\n",
      "Midlands\n",
      "East of England\n",
      "London\n",
      "South East\n",
      "South West\n",
      "Dorset\n",
      "Bournemouth, Christchurch and Poole\n",
      "Stevenage\n",
      "Welwyn Hatfield\n",
      "North Hertfordshire\n",
      "East Hertfordshire\n",
      "Sandwell\n",
      "Dudley\n",
      "Birmingham\n",
      "Derbyshire Dales\n",
      "North East Derbyshire\n",
      "High Peak\n",
      "Sheffield\n",
      "Croydon\n",
      "\n",
      "All done!\n"
     ]
    }
   ],
   "source": [
    "print(\"--- Daily Data ---\")\n",
    "for areaType, areaNames in phe_core.areas[:1]:\n",
    "    for areaName in areaNames:\n",
    "        area = AreaWip(areaType, areaName)\n",
    "        area.loadCases()\n",
    "        \n",
    "print(\"\\nAll done!\")"
   ]
  },
  {
   "cell_type": "markdown",
   "metadata": {},
   "source": [
    "## Prepare Daily + Weekly Data"
   ]
  },
  {
   "cell_type": "code",
   "execution_count": null,
   "metadata": {},
   "outputs": [],
   "source": []
  }
 ],
 "metadata": {
  "kernelspec": {
   "display_name": "Python 3",
   "language": "python",
   "name": "python3"
  },
  "language_info": {
   "codemirror_mode": {
    "name": "ipython",
    "version": 3
   },
   "file_extension": ".py",
   "mimetype": "text/x-python",
   "name": "python",
   "nbconvert_exporter": "python",
   "pygments_lexer": "ipython3",
   "version": "3.7.3"
  }
 },
 "nbformat": 4,
 "nbformat_minor": 2
}
