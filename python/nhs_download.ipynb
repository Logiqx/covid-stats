{
 "cells": [
  {
   "cell_type": "markdown",
   "metadata": {},
   "source": [
    "# NHS Download\n",
    "\n",
    "Created by Michael George (AKA Logiqx)\n",
    "\n",
    "Website: https://logiqx.github.io/covid-stats/"
   ]
  },
  {
   "cell_type": "markdown",
   "metadata": {},
   "source": [
    "## NHS Core\n",
    "\n",
    "Import library for working with NHS data"
   ]
  },
  {
   "cell_type": "code",
   "execution_count": 1,
   "metadata": {},
   "outputs": [],
   "source": [
    "import nhs_core"
   ]
  },
  {
   "cell_type": "markdown",
   "metadata": {},
   "source": [
    "## Download NHS Data\n",
    "\n",
    "Download spreadsheets for deaths and admissions - daily, weekly and monthly"
   ]
  },
  {
   "cell_type": "code",
   "execution_count": 2,
   "metadata": {},
   "outputs": [
    {
     "name": "stdout",
     "output_type": "stream",
     "text": [
      "Skipping COVID-19-total-announced-deaths-5-January-2021.xlsx...\n",
      "Skipping COVID-19-total-announced-deaths-31-December-2020-weekly-file.xlsx...\n",
      "Skipping Covid-Publication-10-12-2020.xlsx...\n",
      "Skipping Weekly-covid-admissions-and-beds-publication-201231.xlsx...\n",
      "Skipping COVID-19-daily-admissions-and-beds-20210105.xlsx...\n"
     ]
    }
   ],
   "source": [
    "nhs_core.downloadDeaths()\n",
    "nhs_core.downloadAdmissions()"
   ]
  },
  {
   "cell_type": "code",
   "execution_count": null,
   "metadata": {},
   "outputs": [],
   "source": []
  }
 ],
 "metadata": {
  "kernelspec": {
   "display_name": "Python 3",
   "language": "python",
   "name": "python3"
  },
  "language_info": {
   "codemirror_mode": {
    "name": "ipython",
    "version": 3
   },
   "file_extension": ".py",
   "mimetype": "text/x-python",
   "name": "python",
   "nbconvert_exporter": "python",
   "pygments_lexer": "ipython3",
   "version": "3.7.3"
  }
 },
 "nbformat": 4,
 "nbformat_minor": 2
}
