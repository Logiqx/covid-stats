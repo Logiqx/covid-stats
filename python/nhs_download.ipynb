{
 "cells": [
  {
   "cell_type": "markdown",
   "metadata": {},
   "source": [
    "# NHS Download\n",
    "\n",
    "Created by Michael George (AKA Logiqx)\n",
    "\n",
    "Website: https://logiqx.github.io/covid-stats/"
   ]
  },
  {
   "cell_type": "markdown",
   "metadata": {},
   "source": [
    "## NHS Core\n",
    "\n",
    "Import library for working with NHS data"
   ]
  },
  {
   "cell_type": "code",
   "execution_count": 1,
   "metadata": {},
   "outputs": [],
   "source": [
    "import nhs_core"
   ]
  },
  {
   "cell_type": "markdown",
   "metadata": {},
   "source": [
    "## Download NHS Data\n",
    "\n",
    "Download spreadsheets for deaths and admissions - daily, weekly and monthly"
   ]
  },
  {
   "cell_type": "code",
   "execution_count": 2,
   "metadata": {},
   "outputs": [
    {
     "name": "stdout",
     "output_type": "stream",
     "text": [
      "Skipping COVID-19-total-announced-deaths-11-January-2021.xlsx...\n",
      "Skipping COVID-19-total-announced-deaths-7-January-2021-weekly-file.xlsx...\n",
      "Skipping COVID-19-total-announced-deaths-7-January-2021-weekly-file.xlsx...\n"
     ]
    }
   ],
   "source": [
    "nhs_core.downloadDeaths()"
   ]
  },
  {
   "cell_type": "code",
   "execution_count": 3,
   "metadata": {},
   "outputs": [
    {
     "name": "stdout",
     "output_type": "stream",
     "text": [
      "Skipping Covid-Publication-10-12-2020.xlsx...\n",
      "Skipping Weekly-covid-admissions-and-beds-publication-210107.xlsx...\n",
      "Skipping COVID-19-daily-admissions-and-beds-20210110.xlsx...\n"
     ]
    }
   ],
   "source": [
    "nhs_core.downloadAdmissions()"
   ]
  },
  {
   "cell_type": "code",
   "execution_count": 4,
   "metadata": {},
   "outputs": [
    {
     "name": "stdout",
     "output_type": "stream",
     "text": [
      "Skipping 111-for-winter-daily-sitrep-20210103.xlsx...\n",
      "Skipping UEC-Daily-SitRep-Acute-Web-File-Timeseries.xlsx...\n"
     ]
    }
   ],
   "source": [
    "nhs_core.downloadSitReps()"
   ]
  },
  {
   "cell_type": "code",
   "execution_count": null,
   "metadata": {},
   "outputs": [],
   "source": []
  }
 ],
 "metadata": {
  "kernelspec": {
   "display_name": "Python 3",
   "language": "python",
   "name": "python3"
  },
  "language_info": {
   "codemirror_mode": {
    "name": "ipython",
    "version": 3
   },
   "file_extension": ".py",
   "mimetype": "text/x-python",
   "name": "python",
   "nbconvert_exporter": "python",
   "pygments_lexer": "ipython3",
   "version": "3.7.3"
  }
 },
 "nbformat": 4,
 "nbformat_minor": 2
}
