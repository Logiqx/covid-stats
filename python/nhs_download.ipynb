{
 "cells": [
  {
   "cell_type": "markdown",
   "metadata": {},
   "source": [
    "# NHS Download\n",
    "\n",
    "Created by Michael George (AKA Logiqx)\n",
    "\n",
    "Website: https://logiqx.github.io/covid-stats/"
   ]
  },
  {
   "cell_type": "markdown",
   "metadata": {},
   "source": [
    "## Imports\n",
    "\n",
    "Standard python libraries plus determination of projdir, basic printable class, etc"
   ]
  },
  {
   "cell_type": "code",
   "execution_count": 1,
   "metadata": {},
   "outputs": [],
   "source": [
    "import os\n",
    "from urllib.parse import urljoin\n",
    "\n",
    "import common_core\n",
    "import nhs_core"
   ]
  },
  {
   "cell_type": "markdown",
   "metadata": {},
   "source": [
    "## Configuration\n",
    "\n",
    "Data to download from the NHS statistical work area"
   ]
  },
  {
   "cell_type": "code",
   "execution_count": 2,
   "metadata": {},
   "outputs": [],
   "source": [
    "NHS_STATISTICAL_WORK_AREAS = \"https://www.england.nhs.uk/statistics/statistical-work-areas\""
   ]
  },
  {
   "cell_type": "code",
   "execution_count": 3,
   "metadata": {},
   "outputs": [],
   "source": [
    "deathsUrl = urljoin(NHS_STATISTICAL_WORK_AREAS, \"covid-19-daily-deaths\")\n",
    "deathsArchiveUrl = urljoin(NHS_STATISTICAL_WORK_AREAS, \"covid-19-daily-deaths/weekly-total-archive\")\n",
    "\n",
    "deathsFiles = [\n",
    "    (\"weekly\", \"COVID-19-total-announced-deaths-.*-weekly-file.*\\.xlsx$\"), # place above daily files to be picked up first\n",
    "    (\"weekly\", \"COVID-19-total-announced-deaths-.*-weekly-tables.*\\.xlsx$\"), # place above daily files to be picked up first\n",
    "    (\"daily\", \"COVID-19-total-announced-deaths-.*\\.xlsx$\"),\n",
    "    (\"daily\", \"COVID-19-daily-announced-deaths-.*\\.xlsx$\")\n",
    "]"
   ]
  },
  {
   "cell_type": "code",
   "execution_count": 4,
   "metadata": {},
   "outputs": [],
   "source": [
    "vaccinationsUrl = urljoin(NHS_STATISTICAL_WORK_AREAS, \"covid-19-vaccinations\")\n",
    "\n",
    "vaccinationsFiles = [\n",
    "    (\"daily\", \"COVID-19-daily-announced-vaccinations-.*\\.xlsx$\"),\n",
    "    (\"weekly\", \"COVID-19-weekly-announced-vaccinations-.*\\.xlsx$\"),\n",
    "    (\"monthly\", \"COVID-19-monthly-announced-vaccinations-.*\\.xlsx$\")\n",
    "]"
   ]
  },
  {
   "cell_type": "code",
   "execution_count": 5,
   "metadata": {},
   "outputs": [],
   "source": [
    "admissionsUrl = urljoin(NHS_STATISTICAL_WORK_AREAS, \"covid-19-hospital-activity\")\n",
    "\n",
    "admissionsFiles = [\n",
    "    (\"daily\", \"COVID-19-daily-admissions-and-beds.*\\.xlsx$\"),\n",
    "    (\"weekly\", \"Weekly-covid-admissions-and-beds-publication.*\\.xlsx$\"),\n",
    "    (\"monthly\", \"Covid-Publication-.*\\.xlsx$\")\n",
    "]"
   ]
  },
  {
   "cell_type": "code",
   "execution_count": 6,
   "metadata": {},
   "outputs": [],
   "source": [
    "sitRepsUrl = urljoin(NHS_STATISTICAL_WORK_AREAS, \"uec-sitrep/urgent-and-emergency-care-daily-situation-reports-2022-23\")\n",
    "\n",
    "sitRepsFiles = [\n",
    "    (\"weekly\", \"UEC-Daily-SitRep-.*Web-File.*\\.xls[mx]$\")\n",
    "]"
   ]
  },
  {
   "cell_type": "markdown",
   "metadata": {},
   "source": [
    "## Download Data\n",
    "\n",
    "Download spreadsheets by parsing the HTML for suitable links"
   ]
  },
  {
   "cell_type": "code",
   "execution_count": 7,
   "metadata": {},
   "outputs": [],
   "source": [
    "def downloadDeaths(skipExisting=common_core.skipExisting, verbose=common_core.verbose):\n",
    "    \"\"\"Download COVID-19 deaths data\"\"\"\n",
    "\n",
    "    webDownload = common_core.WebDownload(skipExisting=skipExisting, verbose=verbose)\n",
    "\n",
    "    category = nhs_core.DEATHS_CATEGORY\n",
    "    \n",
    "    webDownload.downloadFiles(nhs_core.rawPath, deathsUrl, deathsFiles, category=category)\n",
    "\n",
    "    partNames = webDownload.downloadFiles(nhs_core.rawPath, deathsArchiveUrl, deathsFiles, category=category)\n",
    "\n",
    "    return partNames"
   ]
  },
  {
   "cell_type": "code",
   "execution_count": 8,
   "metadata": {},
   "outputs": [],
   "source": [
    "def downloadVaccinations(skipExisting=common_core.skipExisting, verbose=common_core.verbose):\n",
    "    \"\"\"Download COVID-19 vaccinations data\"\"\"\n",
    "   \n",
    "    webDownload = common_core.WebDownload(skipExisting=skipExisting, verbose=verbose)\n",
    "\n",
    "    category = nhs_core.VACCINATIONS_CATEGORY\n",
    "    \n",
    "    partNames = webDownload.downloadFiles(nhs_core.rawPath, vaccinationsUrl, vaccinationsFiles, category=category)\n",
    "\n",
    "    return partNames"
   ]
  },
  {
   "cell_type": "code",
   "execution_count": 9,
   "metadata": {},
   "outputs": [],
   "source": [
    "def downloadAdmissions(skipExisting=common_core.skipExisting, verbose=common_core.verbose):\n",
    "    \"\"\"Download COVID-19 admissions data\"\"\"\n",
    "   \n",
    "    category = nhs_core.ADMISSIONS_CATEGORY\n",
    "    \n",
    "    webDownload = common_core.WebDownload(skipExisting=skipExisting, verbose=verbose)\n",
    "\n",
    "    partNames = webDownload.downloadFiles(nhs_core.rawPath, admissionsUrl, admissionsFiles, category=category)\n",
    "\n",
    "    return partNames"
   ]
  },
  {
   "cell_type": "code",
   "execution_count": 10,
   "metadata": {},
   "outputs": [],
   "source": [
    "def downloadSitReps(skipExisting=common_core.skipExisting, verbose=common_core.verbose):\n",
    "    \"\"\"Download weekly UEC SitReps\"\"\"\n",
    "\n",
    "    category = os.path.join(nhs_core.SITREPS_CATEGORY, nhs_core.SITREPS_YEAR)\n",
    "\n",
    "    webDownload = common_core.WebDownload(skipExisting=skipExisting, verbose=verbose)\n",
    "\n",
    "    partNames = webDownload.downloadFiles(nhs_core.rawPath, sitRepsUrl, sitRepsFiles, category=category)\n",
    "\n",
    "    return partNames"
   ]
  },
  {
   "cell_type": "markdown",
   "metadata": {},
   "source": [
    "   ## Testing"
   ]
  },
  {
   "cell_type": "code",
   "execution_count": 11,
   "metadata": {},
   "outputs": [
    {
     "name": "stdout",
     "output_type": "stream",
     "text": [
      "Downloading nhs-statistics/raw/weekly/sitreps/2022-2023/UEC-Daily-SitRep-Web-File-Timeseries.xlsx...\n"
     ]
    }
   ],
   "source": [
    "if __name__ == '__main__':\n",
    "\n",
    "    partNames = downloadDeaths()\n",
    "    partNames = downloadVaccinations()\n",
    "    partNames = downloadAdmissions()\n",
    "    partNames = downloadSitReps(skipExisting=False, verbose = True)"
   ]
  },
  {
   "cell_type": "code",
   "execution_count": null,
   "metadata": {},
   "outputs": [],
   "source": []
  }
 ],
 "metadata": {
  "kernelspec": {
   "display_name": "Python 3 (ipykernel)",
   "language": "python",
   "name": "python3"
  },
  "language_info": {
   "codemirror_mode": {
    "name": "ipython",
    "version": 3
   },
   "file_extension": ".py",
   "mimetype": "text/x-python",
   "name": "python",
   "nbconvert_exporter": "python",
   "pygments_lexer": "ipython3",
   "version": "3.9.7"
  }
 },
 "nbformat": 4,
 "nbformat_minor": 2
}
