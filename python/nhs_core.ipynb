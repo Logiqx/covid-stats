{
 "cells": [
  {
   "cell_type": "markdown",
   "metadata": {},
   "source": [
    "# NHS Core\n",
    "\n",
    "Created by Michael George (AKA Logiqx)\n",
    "\n",
    "Website: https://logiqx.github.io/covid-stats/"
   ]
  },
  {
   "cell_type": "markdown",
   "metadata": {},
   "source": [
    "## Imports\n",
    "\n",
    "Standard python libraries plus determination of projdir, basic printable class, etc"
   ]
  },
  {
   "cell_type": "code",
   "execution_count": 1,
   "metadata": {},
   "outputs": [],
   "source": [
    "import os\n",
    "import csv\n",
    "\n",
    "import urllib.request\n",
    "import re\n",
    "from bs4 import BeautifulSoup\n",
    "\n",
    "import common_core"
   ]
  },
  {
   "cell_type": "markdown",
   "metadata": {},
   "source": [
    "## Runtime parameters\n",
    "\n",
    "The \"lazy\" option skips files that already exist locally"
   ]
  },
  {
   "cell_type": "code",
   "execution_count": 2,
   "metadata": {},
   "outputs": [],
   "source": [
    "lazy = True"
   ]
  },
  {
   "cell_type": "markdown",
   "metadata": {},
   "source": [
    "## Configuration\n",
    "\n",
    "Data to download from the NHS statistical work area"
   ]
  },
  {
   "cell_type": "code",
   "execution_count": 3,
   "metadata": {},
   "outputs": [],
   "source": [
    "# Only using England for now due to the availability of age demographics, etc\n",
    "nationNames = [\"England\"]\n",
    "\n",
    "# All 7 NHS regions in England\n",
    "nhsRegionNames = [\"North West\", \"North East and Yorkshire\", \"Midlands\",\n",
    "                  \"East of England\", \"London\", \"South East\", \"South West\"]\n",
    "\n",
    "# Combine all of these area types into a single list\n",
    "areas = [(\"nation\", [\"England\"]), (\"nhsregion\", nhsRegionNames)]"
   ]
  },
  {
   "cell_type": "code",
   "execution_count": 4,
   "metadata": {},
   "outputs": [],
   "source": [
    "deathUrl = \"https://www.england.nhs.uk/statistics/statistical-work-areas/covid-19-daily-deaths/\"\n",
    "admissionUrl = \"https://www.england.nhs.uk/statistics/statistical-work-areas/covid-19-hospital-activity/\""
   ]
  },
  {
   "cell_type": "code",
   "execution_count": 5,
   "metadata": {},
   "outputs": [],
   "source": [
    "deathFiles = [\n",
    "    (\"daily\", \"COVID-19-total-announced-deaths-.*-20[0-9][0-9]\\.xlsx$\"),\n",
    "    (\"weekly\", \"COVID-19-total-announced-deaths-.*-weekly-file\\.xlsx$\")\n",
    "]\n",
    "\n",
    "admissionFiles = [\n",
    "    (\"daily\", \"COVID-19-daily-admissions-and-beds.*\\.xlsx$\"),\n",
    "    (\"weekly\", \"Weekly-covid-admissions-and-beds-publication.*\\.xlsx$\"),\n",
    "    (\"monthly\", \"Covid-Publication-.*\\.xlsx$\")\n",
    "]"
   ]
  },
  {
   "cell_type": "code",
   "execution_count": 6,
   "metadata": {},
   "outputs": [],
   "source": [
    "ageDemographics = [\n",
    "    '00_04', '05_09', '10_14', '15_19', '20_24', '25_29',\n",
    "    '30_34', '35_39', '40_44', '45_49', '50_54', '55_59',\n",
    "    '60_64', '65_69', '70_74', '75_79', '80_84', '85_89', '90+'\n",
    "]"
   ]
  },
  {
   "cell_type": "markdown",
   "metadata": {},
   "source": [
    "## Download Functions\n",
    "\n",
    "Download spreadsheets by parsing the HTML for suitable links"
   ]
  },
  {
   "cell_type": "code",
   "execution_count": 7,
   "metadata": {},
   "outputs": [],
   "source": [
    "def downloadFile(url, fileName, lazy=False):\n",
    "    \"\"\"Download a binary file from the URL provided\"\"\"\n",
    "\n",
    "    if os.path.exists(fileName) and lazy:\n",
    "        print(f\"Skipping {os.path.basename(url)}...\")\n",
    "    else:\n",
    "        print(f\"Downloading {os.path.basename(url)}...\")\n",
    "\n",
    "        # Ensure raw path exists\n",
    "        filePath = os.path.dirname(fileName)\n",
    "        if not os.path.exists(filePath):\n",
    "            os.makedirs(filePath)\n",
    "\n",
    "        req = urllib.request.Request(url, headers={'User-Agent': 'Mozilla'})\n",
    "        response = urllib.request.urlopen(req, timeout=60)\n",
    "\n",
    "        with open(fileName, \"wb\") as outfile:\n",
    "            chunk = response.read(4096)\n",
    "            while chunk:\n",
    "                outfile.write(chunk)\n",
    "                chunk = response.read(4096)\n",
    "\n",
    "        response.close()\n",
    "\n",
    "\n",
    "def downloadFiles(url, patterns, category, lazy=False):\n",
    "\n",
    "    req = urllib.request.Request(url, headers={'User-Agent': 'Mozilla'})\n",
    "    response = urllib.request.urlopen(req, timeout=15)\n",
    "\n",
    "    soup = BeautifulSoup(response, \"lxml\")\n",
    "    anchors = soup.find_all(\"a\")\n",
    "\n",
    "    response.close()\n",
    "\n",
    "    for anchor in anchors:\n",
    "        url = anchor.get(\"href\")\n",
    "\n",
    "        for pattern in patterns:\n",
    "            if re.search(pattern[1], url):\n",
    "                filePath = os.path.join(common_core.projdir, \"data\", \"nhs-statistics\", \"raw\", pattern[0], category)\n",
    "                fileName = os.path.join(filePath, os.path.basename(url))\n",
    "                downloadFile(url, fileName, lazy=lazy)"
   ]
  },
  {
   "cell_type": "code",
   "execution_count": 8,
   "metadata": {},
   "outputs": [],
   "source": [
    "def downloadDeaths():\n",
    "    files = downloadFiles(deathUrl, deathFiles, \"deaths\", lazy)"
   ]
  },
  {
   "cell_type": "code",
   "execution_count": 9,
   "metadata": {},
   "outputs": [],
   "source": [
    "def downloadAdmissions():\n",
    "    files = downloadFiles(admissionUrl, admissionFiles, \"admissions\", lazy)"
   ]
  },
  {
   "cell_type": "code",
   "execution_count": null,
   "metadata": {},
   "outputs": [],
   "source": []
  }
 ],
 "metadata": {
  "kernelspec": {
   "display_name": "Python 3",
   "language": "python",
   "name": "python3"
  },
  "language_info": {
   "codemirror_mode": {
    "name": "ipython",
    "version": 3
   },
   "file_extension": ".py",
   "mimetype": "text/x-python",
   "name": "python",
   "nbconvert_exporter": "python",
   "pygments_lexer": "ipython3",
   "version": "3.7.3"
  }
 },
 "nbformat": 4,
 "nbformat_minor": 2
}
