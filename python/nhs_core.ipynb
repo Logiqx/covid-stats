{
 "cells": [
  {
   "cell_type": "markdown",
   "metadata": {},
   "source": [
    "# NHS Core\n",
    "\n",
    "Created by Michael George (AKA Logiqx)\n",
    "\n",
    "Website: https://logiqx.github.io/covid-stats/"
   ]
  },
  {
   "cell_type": "markdown",
   "metadata": {},
   "source": [
    "## Imports\n",
    "\n",
    "Standard python libraries plus determination of projdir, basic printable class, etc"
   ]
  },
  {
   "cell_type": "code",
   "execution_count": 1,
   "metadata": {},
   "outputs": [],
   "source": [
    "import os\n",
    "import csv\n",
    "\n",
    "import common_core"
   ]
  },
  {
   "cell_type": "markdown",
   "metadata": {},
   "source": [
    "## Runtime parameters\n",
    "\n",
    "The \"lazy\" option skips files that already exist locally"
   ]
  },
  {
   "cell_type": "code",
   "execution_count": 2,
   "metadata": {},
   "outputs": [],
   "source": [
    "rawPath = os.path.join(common_core.projdir, \"data\", \"nhs-statistics\", \"raw\")"
   ]
  },
  {
   "cell_type": "markdown",
   "metadata": {},
   "source": [
    "## Configuration\n",
    "\n",
    "Data to download from the NHS statistical work area"
   ]
  },
  {
   "cell_type": "code",
   "execution_count": 3,
   "metadata": {},
   "outputs": [],
   "source": [
    "# Only using England for now due to the availability of age demographics, etc\n",
    "nationNames = [\"England\"]\n",
    "\n",
    "# All 7 NHS regions in England\n",
    "nhsRegionNames = [\"North West\", \"North East and Yorkshire\", \"Midlands\",\n",
    "                  \"East of England\", \"London\", \"South East\", \"South West\"]\n",
    "\n",
    "# Combine all of these area types into a single list\n",
    "areas = [(\"nation\", [\"England\"]), (\"nhsregion\", nhsRegionNames)]"
   ]
  },
  {
   "cell_type": "code",
   "execution_count": 4,
   "metadata": {},
   "outputs": [],
   "source": [
    "deathsUrl = \"https://www.england.nhs.uk/statistics/statistical-work-areas/covid-19-daily-deaths/\"\n",
    "deathsArchiveUrl = \"https://www.england.nhs.uk/statistics/statistical-work-areas/covid-19-daily-deaths/weekly-total-archive/\"\n",
    "vaccinationsUrl = \"https://www.england.nhs.uk/statistics/statistical-work-areas/covid-19-vaccinations/\"\n",
    "admissionsUrl = \"https://www.england.nhs.uk/statistics/statistical-work-areas/covid-19-hospital-activity/\"\n",
    "sitRepsUrl = \"https://www.england.nhs.uk/statistics/statistical-work-areas/uec-sitrep/urgent-and-emergency-care-daily-situation-reports-2020-21/\""
   ]
  },
  {
   "cell_type": "code",
   "execution_count": 5,
   "metadata": {},
   "outputs": [],
   "source": [
    "deathsFiles = [\n",
    "    (\"weekly\", \"COVID-19-total-announced-deaths-.*-weekly-file.*\\.xlsx$\"), # place above daily files to be picked up first\n",
    "    (\"weekly\", \"COVID-19-total-announced-deaths-.*-weekly-tables.*\\.xlsx$\"), # place above daily files to be picked up first\n",
    "    (\"daily\", \"COVID-19-total-announced-deaths-.*\\.xlsx$\"),\n",
    "    (\"daily\", \"COVID-19-daily-announced-deaths-.*\\.xlsx$\")\n",
    "]\n",
    "\n",
    "vaccinationsFiles = [\n",
    "    (\"daily\", \"COVID-19-daily-announced-vaccinations-.*\\.xlsx$\"),\n",
    "    (\"weekly\", \"COVID-19-weekly-announced-vaccinations-.*\\.xlsx$\"),\n",
    "    (\"monthly\", \"COVID-19-monthly-announced-vaccinations-.*\\.xlsx$\")\n",
    "]\n",
    "\n",
    "admissionsFiles = [\n",
    "    (\"daily\", \"COVID-19-daily-admissions-and-beds.*\\.xlsx$\"),\n",
    "    (\"weekly\", \"Weekly-covid-admissions-and-beds-publication.*\\.xlsx$\"),\n",
    "    (\"monthly\", \"Covid-Publication-.*\\.xlsx$\")\n",
    "]\n",
    "\n",
    "sitRepsFiles = [\n",
    "    (\"weekly\", \"UEC-Daily-SitRep-Acute-Web-File-Timeseries.*\\.xlsx$\")\n",
    "\n",
    "]\n",
    "\n",
    "sitRepYear = \"2020-2021\""
   ]
  },
  {
   "cell_type": "code",
   "execution_count": 6,
   "metadata": {},
   "outputs": [],
   "source": [
    "ageDemographics = [\n",
    "    '00_04', '05_09', '10_14', '15_19', '20_24', '25_29',\n",
    "    '30_34', '35_39', '40_44', '45_49', '50_54', '55_59',\n",
    "    '60_64', '65_69', '70_74', '75_79', '80_84', '85_89', '90+'\n",
    "]"
   ]
  },
  {
   "cell_type": "markdown",
   "metadata": {},
   "source": [
    "## Download Data\n",
    "\n",
    "Download spreadsheets by parsing the HTML for suitable links"
   ]
  },
  {
   "cell_type": "code",
   "execution_count": 7,
   "metadata": {},
   "outputs": [],
   "source": [
    "def downloadDeaths(skipExisting=common_core.skipExisting, verbose=common_core.verbose):\n",
    "    webDownload = common_core.WebDownload(skipExisting=skipExisting, verbose=verbose)\n",
    "    files = webDownload.downloadFiles(rawPath, deathsUrl, deathsFiles, \"deaths\")\n",
    "    files = webDownload.downloadFiles(rawPath, deathsArchiveUrl, deathsFiles, \"deaths\")\n",
    "    return files"
   ]
  },
  {
   "cell_type": "code",
   "execution_count": 8,
   "metadata": {},
   "outputs": [],
   "source": [
    "def downloadVaccinations(skipExisting=common_core.skipExisting, verbose=common_core.verbose):\n",
    "    webDownload = common_core.WebDownload(skipExisting=skipExisting, verbose=verbose)\n",
    "    files = webDownload.downloadFiles(rawPath, vaccinationsUrl, vaccinationsFiles, \"vaccinations\")\n",
    "    return files"
   ]
  },
  {
   "cell_type": "code",
   "execution_count": 9,
   "metadata": {},
   "outputs": [],
   "source": [
    "def downloadAdmissions(skipExisting=common_core.skipExisting, verbose=common_core.verbose):\n",
    "    webDownload = common_core.WebDownload(skipExisting=skipExisting, verbose=verbose)\n",
    "    files = webDownload.downloadFiles(rawPath, admissionsUrl, admissionsFiles, \"admissions\")\n",
    "    return files"
   ]
  },
  {
   "cell_type": "code",
   "execution_count": 10,
   "metadata": {},
   "outputs": [],
   "source": [
    "def downloadSitReps(skipExisting=False, verbose=common_core.verbose):\n",
    "    webDownload = common_core.WebDownload(skipExisting=skipExisting, verbose=verbose)\n",
    "    files = webDownload.downloadFiles(rawPath, sitRepsUrl, sitRepsFiles, os.path.join(\"sitreps\", sitRepYear))\n",
    "    return files"
   ]
  },
  {
   "cell_type": "code",
   "execution_count": null,
   "metadata": {},
   "outputs": [],
   "source": []
  }
 ],
 "metadata": {
  "kernelspec": {
   "display_name": "Python 3",
   "language": "python",
   "name": "python3"
  },
  "language_info": {
   "codemirror_mode": {
    "name": "ipython",
    "version": 3
   },
   "file_extension": ".py",
   "mimetype": "text/x-python",
   "name": "python",
   "nbconvert_exporter": "python",
   "pygments_lexer": "ipython3",
   "version": "3.7.3"
  }
 },
 "nbformat": 4,
 "nbformat_minor": 2
}
