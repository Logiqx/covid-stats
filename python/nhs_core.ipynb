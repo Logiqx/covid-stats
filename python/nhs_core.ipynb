{
 "cells": [
  {
   "cell_type": "markdown",
   "metadata": {},
   "source": [
    "# NHS Core\n",
    "\n",
    "Created by Michael George (AKA Logiqx)\n",
    "\n",
    "Website: https://logiqx.github.io/covid-stats/"
   ]
  },
  {
   "cell_type": "markdown",
   "metadata": {},
   "source": [
    "## Imports\n",
    "\n",
    "Standard python libraries plus determination of projdir, basic printable class, etc"
   ]
  },
  {
   "cell_type": "code",
   "execution_count": 1,
   "metadata": {},
   "outputs": [],
   "source": [
    "import os\n",
    "\n",
    "import common_core"
   ]
  },
  {
   "cell_type": "markdown",
   "metadata": {},
   "source": [
    "## Runtime parameters\n",
    "\n",
    "The \"lazy\" option skips files that already exist locally"
   ]
  },
  {
   "cell_type": "markdown",
   "metadata": {},
   "source": [
    "## Configuration\n",
    "\n",
    "Data to download from the NHS statistical work area"
   ]
  },
  {
   "cell_type": "code",
   "execution_count": 2,
   "metadata": {},
   "outputs": [],
   "source": [
    "NHS_STATISTICS = \"nhs-statistics\"\n",
    "\n",
    "rawPath = os.path.join(common_core.dataDir, NHS_STATISTICS, \"raw\")"
   ]
  },
  {
   "cell_type": "code",
   "execution_count": 3,
   "metadata": {},
   "outputs": [],
   "source": [
    "# Only using England for now due to the availability of age demographics, etc\n",
    "nationNames = [common_core.ENGLAND]\n",
    "\n",
    "# All 7 NHS regions in England\n",
    "nhsRegionNames = common_core.nhsRegionNames\n",
    "\n",
    "# Combine all of these area types into a single list\n",
    "areas = [(\"nation\", nationNames), (\"nhsregion\", nhsRegionNames)]"
   ]
  },
  {
   "cell_type": "code",
   "execution_count": 4,
   "metadata": {},
   "outputs": [],
   "source": [
    "DEATHS_CATEGORY = \"deaths\"\n",
    "VACCINATIONS_CATEGORY = \"vaccinations\"\n",
    "ADMISSIONS_CATEGORY = \"admissions\"\n",
    "SITREPS_CATEGORY = \"sitreps\"\n",
    "\n",
    "SITREPS_YEAR = \"2022-2023\""
   ]
  },
  {
   "cell_type": "code",
   "execution_count": 5,
   "metadata": {},
   "outputs": [],
   "source": [
    "ageDemographics = [\n",
    "    '00_04', '05_09', '10_14', '15_19', '20_24', '25_29',\n",
    "    '30_34', '35_39', '40_44', '45_49', '50_54', '55_59',\n",
    "    '60_64', '65_69', '70_74', '75_79', '80_84', '85_89', '90+'\n",
    "]"
   ]
  },
  {
   "cell_type": "markdown",
   "metadata": {},
   "source": [
    "   ## Testing"
   ]
  },
  {
   "cell_type": "code",
   "execution_count": 6,
   "metadata": {},
   "outputs": [],
   "source": [
    "if __name__ == '__main__':\n",
    "\n",
    "    pass"
   ]
  }
 ],
 "metadata": {
  "kernelspec": {
   "display_name": "Python 3 (ipykernel)",
   "language": "python",
   "name": "python3"
  },
  "language_info": {
   "codemirror_mode": {
    "name": "ipython",
    "version": 3
   },
   "file_extension": ".py",
   "mimetype": "text/x-python",
   "name": "python",
   "nbconvert_exporter": "python",
   "pygments_lexer": "ipython3",
   "version": "3.9.7"
  }
 },
 "nbformat": 4,
 "nbformat_minor": 2
}
