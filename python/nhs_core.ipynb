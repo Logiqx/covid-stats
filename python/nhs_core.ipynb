{
 "cells": [
  {
   "cell_type": "markdown",
   "metadata": {},
   "source": [
    "# NHS Core\n",
    "\n",
    "Created by Michael George (AKA Logiqx)\n",
    "\n",
    "Website: https://logiqx.github.io/covid-stats/"
   ]
  },
  {
   "cell_type": "markdown",
   "metadata": {},
   "source": [
    "## Imports\n",
    "\n",
    "Standard python libraries plus determination of projdir, basic printable class, etc"
   ]
  },
  {
   "cell_type": "code",
   "execution_count": null,
   "metadata": {},
   "outputs": [],
   "source": [
    "import os\n",
    "import csv\n",
    "\n",
    "import common_core"
   ]
  },
  {
   "cell_type": "markdown",
   "metadata": {},
   "source": [
    "## Runtime parameters\n",
    "\n",
    "The \"lazy\" option skips files that already exist locally"
   ]
  },
  {
   "cell_type": "code",
   "execution_count": null,
   "metadata": {},
   "outputs": [],
   "source": [
    "skipExisting = True\n",
    "\n",
    "rawPath = os.path.join(common_core.projdir, \"data\", \"nhs-statistics\", \"raw\")"
   ]
  },
  {
   "cell_type": "markdown",
   "metadata": {},
   "source": [
    "## Configuration\n",
    "\n",
    "Data to download from the NHS statistical work area"
   ]
  },
  {
   "cell_type": "code",
   "execution_count": null,
   "metadata": {},
   "outputs": [],
   "source": [
    "# Only using England for now due to the availability of age demographics, etc\n",
    "nationNames = [\"England\"]\n",
    "\n",
    "# All 7 NHS regions in England\n",
    "nhsRegionNames = [\"North West\", \"North East and Yorkshire\", \"Midlands\",\n",
    "                  \"East of England\", \"London\", \"South East\", \"South West\"]\n",
    "\n",
    "# Combine all of these area types into a single list\n",
    "areas = [(\"nation\", [\"England\"]), (\"nhsregion\", nhsRegionNames)]"
   ]
  },
  {
   "cell_type": "code",
   "execution_count": null,
   "metadata": {},
   "outputs": [],
   "source": [
    "deathUrl = \"https://www.england.nhs.uk/statistics/statistical-work-areas/covid-19-daily-deaths/\"\n",
    "admissionUrl = \"https://www.england.nhs.uk/statistics/statistical-work-areas/covid-19-hospital-activity/\"\n",
    "sitRepUrl = \"https://www.england.nhs.uk/statistics/statistical-work-areas/uec-sitrep/urgent-and-emergency-care-daily-situation-reports-2020-21/\""
   ]
  },
  {
   "cell_type": "code",
   "execution_count": null,
   "metadata": {},
   "outputs": [],
   "source": [
    "deathFiles = [\n",
    "    (\"weekly\", \"COVID-19-total-announced-deaths-.*-weekly-file\\.xlsx$\"), # place above daily file to be picked up first\n",
    "    (\"daily\", \"COVID-19-total-announced-deaths-.*\\.xlsx$\"),\n",
    "    (\"daily\", \"COVID-19-daily-announced-deaths-.*\\.xlsx$\")\n",
    "]\n",
    "\n",
    "admissionFiles = [\n",
    "    (\"daily\", \"COVID-19-daily-admissions-and-beds.*\\.xlsx$\"),\n",
    "    (\"weekly\", \"Weekly-covid-admissions-and-beds-publication.*\\.xlsx$\"),\n",
    "    (\"monthly\", \"Covid-Publication-.*\\.xlsx$\")\n",
    "]\n",
    "\n",
    "sitRepFiles = [\n",
    "    (\"weekly\", \"UEC-Daily-SitRep-Acute-Web-File-Timeseries.*\\.xlsx$\")\n",
    "\n",
    "]"
   ]
  },
  {
   "cell_type": "code",
   "execution_count": null,
   "metadata": {},
   "outputs": [],
   "source": [
    "ageDemographics = [\n",
    "    '00_04', '05_09', '10_14', '15_19', '20_24', '25_29',\n",
    "    '30_34', '35_39', '40_44', '45_49', '50_54', '55_59',\n",
    "    '60_64', '65_69', '70_74', '75_79', '80_84', '85_89', '90+'\n",
    "]"
   ]
  },
  {
   "cell_type": "markdown",
   "metadata": {},
   "source": [
    "## Download Data\n",
    "\n",
    "Download spreadsheets by parsing the HTML for suitable links"
   ]
  },
  {
   "cell_type": "code",
   "execution_count": null,
   "metadata": {},
   "outputs": [],
   "source": [
    "def downloadDeaths():\n",
    "    webDownload = common_core.WebDownload(skipExisting=skipExisting)\n",
    "    files = webDownload.downloadFiles(rawPath, deathUrl, deathFiles, \"deaths\")"
   ]
  },
  {
   "cell_type": "code",
   "execution_count": null,
   "metadata": {},
   "outputs": [],
   "source": [
    "def downloadAdmissions():\n",
    "    webDownload = common_core.WebDownload(skipExisting=skipExisting)\n",
    "    files = webDownload.downloadFiles(rawPath, admissionUrl, admissionFiles, \"admissions\")"
   ]
  },
  {
   "cell_type": "code",
   "execution_count": null,
   "metadata": {},
   "outputs": [],
   "source": [
    "def downloadSitReps():\n",
    "    webDownload = common_core.WebDownload(skipExisting=skipExisting)\n",
    "    files = webDownload.downloadFiles(rawPath, sitRepUrl, sitRepFiles, \"sitreps\")"
   ]
  },
  {
   "cell_type": "code",
   "execution_count": null,
   "metadata": {},
   "outputs": [],
   "source": []
  }
 ],
 "metadata": {
  "kernelspec": {
   "display_name": "Python 3",
   "language": "python",
   "name": "python3"
  },
  "language_info": {
   "codemirror_mode": {
    "name": "ipython",
    "version": 3
   },
   "file_extension": ".py",
   "mimetype": "text/x-python",
   "name": "python",
   "nbconvert_exporter": "python",
   "pygments_lexer": "ipython3",
   "version": "3.7.3"
  }
 },
 "nbformat": 4,
 "nbformat_minor": 2
}
