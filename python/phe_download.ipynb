{
 "cells": [
  {
   "cell_type": "markdown",
   "metadata": {},
   "source": [
    "# PHE Download\n",
    "\n",
    "Created by Michael George (AKA Logiqx)\n",
    "\n",
    "Website: https://logiqx.github.io/covid-stats/"
   ]
  },
  {
   "cell_type": "code",
   "execution_count": 78,
   "metadata": {},
   "outputs": [],
   "source": [
    "import os, sys\n",
    "\n",
    "projdir = os.path.realpath(os.path.join(sys.path[0], '..'))"
   ]
  },
  {
   "cell_type": "code",
   "execution_count": 79,
   "metadata": {},
   "outputs": [],
   "source": [
    "class Printable:\n",
    "    def __repr__(self):\n",
    "        return str(self.__class__) + \": \" + str(self.__dict__)\n",
    "\n",
    "    def __str__(self):\n",
    "        return str(self.__class__) + \": \" + str(self.__dict__)"
   ]
  },
  {
   "cell_type": "code",
   "execution_count": 80,
   "metadata": {},
   "outputs": [],
   "source": [
    "from requests import get\n",
    "from json import dumps\n",
    "\n",
    "class Area(Printable):\n",
    "    def __init__(self, areaType, areaName):\n",
    "        \"\"\"Initialisise the partial results\"\"\"\n",
    "\n",
    "        self.areaType = areaType\n",
    "        self.areaName = areaName\n",
    "        self.csvName = areaName.lower().replace(' ', '_') + '.csv'\n",
    "        \n",
    "        for word in 'of', 'and', 'the':\n",
    "            self.csvName = self.csvName.replace(word + '_', '')\n",
    "\n",
    "\n",
    "    def download(self, dirName, demographics):\n",
    "        \"\"\"Download cases by specimen date age demographics\"\"\"\n",
    "\n",
    "        try:\n",
    "            ENDPOINT = \"https://api.coronavirus.data.gov.uk/v1/data\"\n",
    "\n",
    "            filters = [\n",
    "                f\"areaType={self.areaType}\",\n",
    "                f\"areaName={self.areaName}\"\n",
    "            ]\n",
    "\n",
    "            structure = {\n",
    "                \"date\": \"date\",\n",
    "                \"areaName\": \"areaName\",\n",
    "                demographics: demographics,\n",
    "            }\n",
    "\n",
    "            api_params = {\n",
    "                \"filters\": str.join(\";\", filters),\n",
    "                \"structure\": dumps(structure, separators=(\",\", \":\")),\n",
    "                \"format\": \"csv\"\n",
    "            }\n",
    "\n",
    "            response = get(ENDPOINT, params=api_params, timeout=10)\n",
    "            assert response.status_code == 200, f\"Failed request for {fmt}: {response.text}\"\n",
    "            \n",
    "            path = os.path.join(projdir, \"data\", \"download\", \"phe\", dirName, self.areaType)\n",
    "            if not os.path.exists(path):\n",
    "                os.makedirs(path)\n",
    "\n",
    "            fn = os.path.join(path, self.csvName)\n",
    "            with open(fn, 'w') as f:\n",
    "                f.write(response.content.decode())\n",
    "\n",
    "        except:\n",
    "            print(f\"Failed to retrieve {dirName} for {self.areaName}\")\n",
    "            raise\n",
    "\n",
    "\n",
    "    def downloadCases(self):\n",
    "        \"\"\"Download cases by specimen date age demographics\"\"\"\n",
    "\n",
    "        self.download(\"cases\", \"newCasesBySpecimenDateAgeDemographics\")\n",
    "            \n",
    "\n",
    "    def downloadDeaths(self):\n",
    "        \"\"\"Download deaths within 28 days of positive test by date of death age demographics\"\"\"\n",
    "\n",
    "        self.download(\"deaths\", \"newDeaths28DaysByDeathDateAgeDemographics\")"
   ]
  },
  {
   "cell_type": "code",
   "execution_count": 81,
   "metadata": {},
   "outputs": [
    {
     "name": "stdout",
     "output_type": "stream",
     "text": [
      "Processing England...\n",
      "Processing North West...\n",
      "Processing North East...\n",
      "Processing Yorkshire and The Humber...\n",
      "Processing West Midlands...\n",
      "Processing East Midlands...\n",
      "Processing East of England...\n",
      "Processing London...\n",
      "Processing South East...\n",
      "Processing South West...\n",
      "All done!\n"
     ]
    }
   ],
   "source": [
    "areaNames = ['North West', 'North East', 'Yorkshire and The Humber',\n",
    "             'West Midlands', 'East Midlands',\n",
    "             'East of England', 'London', 'South East', \n",
    "             'South West'\n",
    "           ]\n",
    "\n",
    "areaName = 'England'\n",
    "print(f\"Downloading {areaName}...\")\n",
    "area = Area(\"nation\", areaName)\n",
    "area.downloadCases()\n",
    "area.downloadDeaths()\n",
    "\n",
    "for areaName in areaNames:\n",
    "    print(f\"Downloading {areaName}...\")\n",
    "    area = Area(\"region\", areaName)\n",
    "    area.downloadCases()\n",
    "    area.downloadDeaths()\n",
    "\n",
    "print(\"All done!\")"
   ]
  },
  {
   "cell_type": "code",
   "execution_count": null,
   "metadata": {},
   "outputs": [],
   "source": []
  }
 ],
 "metadata": {
  "kernelspec": {
   "display_name": "Python 3",
   "language": "python",
   "name": "python3"
  },
  "language_info": {
   "codemirror_mode": {
    "name": "ipython",
    "version": 3
   },
   "file_extension": ".py",
   "mimetype": "text/x-python",
   "name": "python",
   "nbconvert_exporter": "python",
   "pygments_lexer": "ipython3",
   "version": "3.7.3"
  }
 },
 "nbformat": 4,
 "nbformat_minor": 2
}
