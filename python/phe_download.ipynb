{
 "cells": [
  {
   "cell_type": "markdown",
   "metadata": {},
   "source": [
    "# PHE Download\n",
    "\n",
    "Created by Michael George (AKA Logiqx)\n",
    "\n",
    "Website: https://logiqx.github.io/covid-stats/"
   ]
  },
  {
   "cell_type": "markdown",
   "metadata": {},
   "source": [
    "## PHE Core\n",
    "\n",
    "Import library for working with PHE data"
   ]
  },
  {
   "cell_type": "code",
   "execution_count": 7,
   "metadata": {},
   "outputs": [],
   "source": [
    "import phe_core"
   ]
  },
  {
   "cell_type": "markdown",
   "metadata": {},
   "source": [
    "## Download Daily + Weekly Data"
   ]
  },
  {
   "cell_type": "code",
   "execution_count": 6,
   "metadata": {},
   "outputs": [
    {
     "name": "stdout",
     "output_type": "stream",
     "text": [
      "--- Daily Data ---\n",
      "Downloading England...\n",
      "\n",
      "--- Weekly Data ---\n",
      "Downloading England...\n",
      "\n",
      "All done!\n"
     ]
    }
   ],
   "source": [
    "print(\"--- Daily Data ---\")\n",
    "for areaType, areaNames in phe_core.areas:\n",
    "    for areaName in areaNames:\n",
    "        area = phe_core.Area(areaType, areaName)\n",
    "        area.downloadDaily()\n",
    "        \n",
    "print(\"\\n--- Weekly Data ---\")\n",
    "for areaType, areaNames in phe_core.areas:\n",
    "    for areaName in areaNames:\n",
    "        area = phe_core.Area(areaType, areaName)\n",
    "        area.downloadWeekly()\n",
    "        \n",
    "print(\"\\nAll done!\")"
   ]
  },
  {
   "cell_type": "markdown",
   "metadata": {},
   "source": [
    "## Prepare Daily + Weekly Data"
   ]
  },
  {
   "cell_type": "code",
   "execution_count": 9,
   "metadata": {},
   "outputs": [
    {
     "name": "stdout",
     "output_type": "stream",
     "text": [
      "--- Preparing daily data ---\n",
      "Preparing England...\n",
      "Preparing North West...\n",
      "Preparing North East...\n",
      "Preparing Yorkshire and The Humber...\n",
      "Preparing West Midlands...\n",
      "Preparing East Midlands...\n",
      "Preparing East of England...\n",
      "Preparing London...\n",
      "Preparing South East...\n",
      "Preparing South West...\n",
      "Preparing North West...\n",
      "Preparing North East and Yorkshire...\n",
      "Preparing Midlands...\n",
      "Preparing East of England...\n",
      "Preparing London...\n",
      "Preparing South East...\n",
      "Preparing South West...\n",
      "Preparing Dorset...\n",
      "Preparing Bournemouth, Christchurch and Poole...\n",
      "Preparing Stevenage...\n",
      "Preparing Welwyn Hatfield...\n",
      "Preparing North Hertfordshire...\n",
      "Preparing East Hertfordshire...\n",
      "Preparing Sandwell...\n",
      "Preparing Dudley...\n",
      "Preparing Birmingham...\n",
      "Preparing Derbyshire Dales...\n",
      "Preparing North East Derbyshire...\n",
      "Preparing High Peak...\n",
      "Preparing Sheffield...\n",
      "Preparing Croydon...\n",
      "\n",
      "---Preparing weekly data ---\n",
      "Preparing England...\n",
      "Preparing North West...\n",
      "Preparing North East...\n",
      "Preparing Yorkshire and The Humber...\n",
      "Preparing West Midlands...\n",
      "Preparing East Midlands...\n",
      "Preparing East of England...\n",
      "Preparing London...\n",
      "Preparing South East...\n",
      "Preparing South West...\n",
      "Preparing Dorset...\n",
      "Preparing Bournemouth, Christchurch and Poole...\n",
      "Preparing Stevenage...\n",
      "Preparing Welwyn Hatfield...\n",
      "Preparing North Hertfordshire...\n",
      "Preparing East Hertfordshire...\n",
      "Preparing Sandwell...\n",
      "Preparing Dudley...\n",
      "Preparing Birmingham...\n",
      "Preparing Derbyshire Dales...\n",
      "Preparing North East Derbyshire...\n",
      "Preparing High Peak...\n",
      "Preparing Sheffield...\n",
      "Preparing Croydon...\n",
      "\n",
      "All done!\n"
     ]
    }
   ],
   "source": [
    "print(\"--- Preparing daily data ---\")\n",
    "for areaType, areaNames in phe_core.areas:\n",
    "    for areaName in areaNames:\n",
    "        area = phe_core.Area(areaType, areaName)\n",
    "        area.prepareDaily()\n",
    "\n",
    "print(\"\\n---Preparing weekly data ---\")\n",
    "for areaType, areaNames in phe_core.areas:\n",
    "    for areaName in areaNames:\n",
    "        area = phe_core.Area(areaType, areaName)\n",
    "        area.prepareWeekly()\n",
    "        \n",
    "print(\"\\nAll done!\")"
   ]
  },
  {
   "cell_type": "code",
   "execution_count": null,
   "metadata": {},
   "outputs": [],
   "source": []
  }
 ],
 "metadata": {
  "kernelspec": {
   "display_name": "Python 3",
   "language": "python",
   "name": "python3"
  },
  "language_info": {
   "codemirror_mode": {
    "name": "ipython",
    "version": 3
   },
   "file_extension": ".py",
   "mimetype": "text/x-python",
   "name": "python",
   "nbconvert_exporter": "python",
   "pygments_lexer": "ipython3",
   "version": "3.7.3"
  }
 },
 "nbformat": 4,
 "nbformat_minor": 2
}
