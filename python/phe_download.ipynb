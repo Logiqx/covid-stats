{
 "cells": [
  {
   "cell_type": "markdown",
   "metadata": {},
   "source": [
    "# PHE Download\n",
    "\n",
    "Created by Michael George (AKA Logiqx)\n",
    "\n",
    "Website: https://logiqx.github.io/covid-stats/"
   ]
  },
  {
   "cell_type": "markdown",
   "metadata": {},
   "source": [
    "## PHE Core\n",
    "\n",
    "Import library for working with PHE data"
   ]
  },
  {
   "cell_type": "code",
   "execution_count": 1,
   "metadata": {},
   "outputs": [],
   "source": [
    "import os\n",
    "\n",
    "import common_core\n",
    "import phe_core"
   ]
  },
  {
   "cell_type": "markdown",
   "metadata": {},
   "source": [
    "## Download COVID-19 and Flu Surveillance"
   ]
  },
  {
   "cell_type": "code",
   "execution_count": 2,
   "metadata": {},
   "outputs": [],
   "source": [
    "PHE_SURVEILLANCE = \"phe-surveillance\"\n",
    "surveillancePath = os.path.join(common_core.dataDir, PHE_SURVEILLANCE, \"raw\")\n",
    "\n",
    "surveillanceUrl = \"https://www.gov.uk/government/statistics/national-flu-and-covid-19-surveillance-reports\"\n",
    "surveillanceFiles = [\n",
    "    (\"weekly\", \"Weekly_Influenza_and_COVID19_report_data_.*\\.xlsx$\")\n",
    "]\n",
    "\n",
    "legacySurveillanceUrl = \"https://www.gov.uk/government/publications/national-covid-19-surveillance-reports\"\n",
    "legacySurveillanceFiles = [\n",
    "    (\"weekly\", \"Weekly_COVID19_report_data_.*\\.xlsx$\")\n",
    "]"
   ]
  },
  {
   "cell_type": "code",
   "execution_count": 3,
   "metadata": {},
   "outputs": [],
   "source": [
    "def downloadSurveillance(skipExisting=common_core.skipExisting, verbose=common_core.verbose):\n",
    "    webDownload = common_core.WebDownload(skipExisting=skipExisting, verbose=verbose)\n",
    "    files = webDownload.downloadFiles(surveillancePath, surveillanceUrl, surveillanceFiles)\n",
    "    files += webDownload.downloadFiles(surveillancePath, legacySurveillanceUrl, legacySurveillanceFiles)\n",
    "    return files"
   ]
  },
  {
   "cell_type": "markdown",
   "metadata": {},
   "source": [
    "## Download Daily + Weekly Data"
   ]
  },
  {
   "cell_type": "code",
   "execution_count": 4,
   "metadata": {},
   "outputs": [
    {
     "name": "stdout",
     "output_type": "stream",
     "text": [
      "--- Downloading daily dashboard data ---\n",
      "Downloading United Kingdom...\n",
      "Downloading England...\n",
      "Downloading Scotland...\n",
      "Downloading Wales...\n",
      "Downloading Northern Ireland...\n",
      "Downloading North East...\n",
      "Downloading North West...\n",
      "Downloading Yorkshire and The Humber...\n",
      "Downloading East Midlands...\n",
      "Downloading West Midlands...\n",
      "Downloading East of England...\n",
      "Downloading London...\n",
      "Downloading South East...\n",
      "Downloading South West...\n",
      "Downloading North East and Yorkshire...\n",
      "Downloading North West...\n",
      "Downloading Midlands...\n",
      "Downloading East of England...\n",
      "Downloading London...\n",
      "Downloading South East...\n",
      "Downloading South West...\n",
      "Downloading Dorset...\n",
      "Downloading Bournemouth, Christchurch and Poole...\n",
      "Downloading Stevenage...\n",
      "Downloading Welwyn Hatfield...\n",
      "Downloading North Hertfordshire...\n",
      "Downloading East Hertfordshire...\n",
      "Downloading Sandwell...\n",
      "Downloading Dudley...\n",
      "Downloading Birmingham...\n",
      "Downloading Derbyshire Dales...\n",
      "Downloading North East Derbyshire...\n",
      "Downloading High Peak...\n",
      "Downloading Sheffield...\n",
      "Downloading Croydon...\n",
      "\n",
      "--- Downloading weekly dashboard data ---\n",
      "Downloading United Kingdom...\n",
      "Downloading England...\n",
      "Downloading Scotland...\n",
      "Downloading Wales...\n",
      "Downloading Northern Ireland...\n",
      "Downloading North East...\n",
      "Downloading North West...\n",
      "Downloading Yorkshire and The Humber...\n",
      "Downloading East Midlands...\n",
      "Downloading West Midlands...\n",
      "Downloading East of England...\n",
      "Downloading London...\n",
      "Downloading South East...\n",
      "Downloading South West...\n",
      "Downloading Dorset...\n",
      "Downloading Bournemouth, Christchurch and Poole...\n",
      "Downloading Stevenage...\n",
      "Downloading Welwyn Hatfield...\n",
      "Downloading North Hertfordshire...\n",
      "Downloading East Hertfordshire...\n",
      "Downloading Sandwell...\n",
      "Downloading Dudley...\n",
      "Downloading Birmingham...\n",
      "Downloading Derbyshire Dales...\n",
      "Downloading North East Derbyshire...\n",
      "Downloading High Peak...\n",
      "Downloading Sheffield...\n",
      "Downloading Croydon...\n",
      "\n",
      "--- Downloading surveillance data ---\n",
      "\n",
      "All done!\n"
     ]
    }
   ],
   "source": [
    "if __name__ == '__main__':\n",
    "\n",
    "    print(\"--- Downloading daily dashboard data ---\")\n",
    "    for areaType, areaNames in phe_core.areas:\n",
    "        for areaName in areaNames:\n",
    "            area = phe_core.Area(areaType, areaName)\n",
    "            area.downloadDaily()\n",
    "\n",
    "    print(\"\\n--- Downloading weekly dashboard data ---\")\n",
    "    for areaType, areaNames in phe_core.areas:\n",
    "        for areaName in areaNames:\n",
    "            area = phe_core.Area(areaType, areaName)\n",
    "            area.downloadWeekly()\n",
    "\n",
    "    print(\"\\n--- Downloading surveillance data ---\")\n",
    "    downloadSurveillance()\n",
    "\n",
    "    print(\"\\nAll done!\")"
   ]
  },
  {
   "cell_type": "markdown",
   "metadata": {},
   "source": [
    "## Prepare Daily + Weekly Data"
   ]
  },
  {
   "cell_type": "code",
   "execution_count": 5,
   "metadata": {},
   "outputs": [
    {
     "name": "stdout",
     "output_type": "stream",
     "text": [
      "--- Preparing daily dashboard data ---\n",
      "Preparing United Kingdom...\n",
      "Preparing England...\n",
      "Preparing Scotland...\n",
      "Preparing Wales...\n",
      "Preparing Northern Ireland...\n",
      "Preparing North East...\n",
      "Preparing North West...\n",
      "Preparing Yorkshire and The Humber...\n",
      "Preparing East Midlands...\n",
      "Preparing West Midlands...\n",
      "Preparing East of England...\n",
      "Preparing London...\n",
      "Preparing South East...\n",
      "Preparing South West...\n",
      "Preparing North East and Yorkshire...\n",
      "Preparing North West...\n",
      "Preparing Midlands...\n",
      "Preparing East of England...\n",
      "Preparing London...\n",
      "Preparing South East...\n",
      "Preparing South West...\n",
      "Preparing Dorset...\n",
      "Preparing Bournemouth, Christchurch and Poole...\n",
      "Preparing Stevenage...\n",
      "Preparing Welwyn Hatfield...\n",
      "Preparing North Hertfordshire...\n",
      "Preparing East Hertfordshire...\n",
      "Preparing Sandwell...\n",
      "Preparing Dudley...\n",
      "Preparing Birmingham...\n",
      "Preparing Derbyshire Dales...\n",
      "Preparing North East Derbyshire...\n",
      "Preparing High Peak...\n",
      "Preparing Sheffield...\n",
      "Preparing Croydon...\n",
      "\n",
      "---Preparing weekly dashboard data ---\n",
      "Preparing United Kingdom...\n",
      "Preparing England...\n",
      "Preparing Scotland...\n",
      "Preparing Wales...\n",
      "Preparing Northern Ireland...\n",
      "Preparing North East...\n",
      "Preparing North West...\n",
      "Preparing Yorkshire and The Humber...\n",
      "Preparing East Midlands...\n",
      "Preparing West Midlands...\n",
      "Preparing East of England...\n",
      "Preparing London...\n",
      "Preparing South East...\n",
      "Preparing South West...\n",
      "Preparing Dorset...\n",
      "Preparing Bournemouth, Christchurch and Poole...\n",
      "Preparing Stevenage...\n",
      "Preparing Welwyn Hatfield...\n",
      "Preparing North Hertfordshire...\n",
      "Preparing East Hertfordshire...\n",
      "Preparing Sandwell...\n",
      "Preparing Dudley...\n",
      "Preparing Birmingham...\n",
      "Preparing Derbyshire Dales...\n",
      "Preparing North East Derbyshire...\n",
      "Preparing High Peak...\n",
      "Preparing Sheffield...\n",
      "Preparing Croydon...\n",
      "\n",
      "All done!\n"
     ]
    }
   ],
   "source": [
    "if __name__ == '__main__':\n",
    "\n",
    "    print(\"--- Preparing daily dashboard data ---\")\n",
    "    for areaType, areaNames in phe_core.areas:\n",
    "        for areaName in areaNames:\n",
    "            area = phe_core.Area(areaType, areaName)\n",
    "            area.prepareDaily()\n",
    "\n",
    "    print(\"\\n---Preparing weekly dashboard data ---\")\n",
    "    for areaType, areaNames in phe_core.areas:\n",
    "        for areaName in areaNames:\n",
    "            area = phe_core.Area(areaType, areaName)\n",
    "            area.prepareWeekly()\n",
    "\n",
    "    print(\"\\nAll done!\")"
   ]
  },
  {
   "cell_type": "code",
   "execution_count": null,
   "metadata": {},
   "outputs": [],
   "source": []
  }
 ],
 "metadata": {
  "kernelspec": {
   "display_name": "Python 3",
   "language": "python",
   "name": "python3"
  },
  "language_info": {
   "codemirror_mode": {
    "name": "ipython",
    "version": 3
   },
   "file_extension": ".py",
   "mimetype": "text/x-python",
   "name": "python",
   "nbconvert_exporter": "python",
   "pygments_lexer": "ipython3",
   "version": "3.7.3"
  }
 },
 "nbformat": 4,
 "nbformat_minor": 2
}
