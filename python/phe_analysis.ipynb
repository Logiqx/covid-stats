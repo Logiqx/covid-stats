{
 "cells": [
  {
   "cell_type": "markdown",
   "metadata": {},
   "source": [
    "# PHE Analysis\n",
    "\n",
    "Created by Michael George (AKA Logiqx)\n",
    "\n",
    "Website: https://logiqx.github.io/covid-stats/"
   ]
  },
  {
   "cell_type": "code",
   "execution_count": 15,
   "metadata": {},
   "outputs": [],
   "source": [
    "import os, sys\n",
    "\n",
    "projdir = os.path.realpath(os.path.join(sys.path[0], '..'))"
   ]
  },
  {
   "cell_type": "code",
   "execution_count": 16,
   "metadata": {},
   "outputs": [],
   "source": [
    "class Printable:\n",
    "    def __repr__(self):\n",
    "        return str(self.__class__) + \": \" + str(self.__dict__)\n",
    "\n",
    "    def __str__(self):\n",
    "        return str(self.__class__) + \": \" + str(self.__dict__)"
   ]
  },
  {
   "cell_type": "code",
   "execution_count": 17,
   "metadata": {},
   "outputs": [],
   "source": [
    "import csv\n",
    "\n",
    "class Area(Printable):\n",
    "    def __init__(self, areaType, areaName):\n",
    "        \"\"\"Initialisise the area object\"\"\"\n",
    "\n",
    "        self.areaType = areaType\n",
    "        self.areaName = areaName\n",
    "        self.csvName = areaName.lower().replace(' ', '_') + '.csv'\n",
    "        \n",
    "        for word in 'of', 'and', 'the':\n",
    "            self.csvName = self.csvName.replace(word + '_', '')\n",
    "\n",
    "\n",
    "    def load(self, dirName):\n",
    "        \"\"\"Load demographic data - cases or deaths\"\"\"\n",
    "\n",
    "        try:\n",
    "            csvPath = os.path.join(projdir, \"data\", \"phe-dashboard\", \"csv\", dirName, \"demographics\", self.areaType)\n",
    "            csvFn = os.path.join(csvPath, self.csvName)\n",
    "\n",
    "            # Generate the CSV from raw data\n",
    "            with open(csvFn, 'r') as f:\n",
    "                reader = csv.reader(f, delimiter = ',')\n",
    "                rowNo = 0\n",
    "                for row in reader:\n",
    "                    if rowNo == 0:\n",
    "                        pass\n",
    "                    else:\n",
    "                        pass\n",
    "\n",
    "                    rowNo += 1\n",
    "\n",
    "        # General catch all\n",
    "        except:\n",
    "            print(f\"Failed to load {dirName} for {self.areaName}\")\n",
    "            raise\n",
    "\n",
    "\n",
    "    def loadCases(self):\n",
    "        \"\"\"Load cases by specimen date age demographics\"\"\"\n",
    "\n",
    "        self.load(\"cases\")\n",
    "            \n",
    "\n",
    "    def loadDeaths(self):\n",
    "        \"\"\"Load deaths within 28 days of positive test by date of death age demographics\"\"\"\n",
    "\n",
    "        self.load(\"deaths\")"
   ]
  },
  {
   "cell_type": "code",
   "execution_count": 18,
   "metadata": {},
   "outputs": [
    {
     "name": "stdout",
     "output_type": "stream",
     "text": [
      "Loading England...\n",
      "Loading North West...\n",
      "Loading North East...\n",
      "Loading Yorkshire and The Humber...\n",
      "Loading West Midlands...\n",
      "Loading East Midlands...\n",
      "Loading East of England...\n",
      "Loading London...\n",
      "Loading South East...\n",
      "Loading South West...\n",
      "All done!\n"
     ]
    }
   ],
   "source": [
    "areaNames = ['North West', 'North East', 'Yorkshire and The Humber',\n",
    "             'West Midlands', 'East Midlands',\n",
    "             'East of England', 'London', 'South East', \n",
    "             'South West'\n",
    "           ]\n",
    "\n",
    "# Load demographic data for England\n",
    "areaName = 'England'\n",
    "print(f\"Loading {areaName}...\")\n",
    "area = Area(\"nation\", areaName)\n",
    "area.loadCases()\n",
    "area.loadDeaths()\n",
    "\n",
    "# Load demographic data for the regions in England\n",
    "for areaName in areaNames:\n",
    "    print(f\"Loading {areaName}...\")\n",
    "    area = Area(\"region\", areaName)\n",
    "    area.loadCases()\n",
    "    area.loadDeaths()\n",
    "\n",
    "print(\"All done!\")"
   ]
  },
  {
   "cell_type": "code",
   "execution_count": null,
   "metadata": {},
   "outputs": [],
   "source": []
  }
 ],
 "metadata": {
  "kernelspec": {
   "display_name": "Python 3",
   "language": "python",
   "name": "python3"
  },
  "language_info": {
   "codemirror_mode": {
    "name": "ipython",
    "version": 3
   },
   "file_extension": ".py",
   "mimetype": "text/x-python",
   "name": "python",
   "nbconvert_exporter": "python",
   "pygments_lexer": "ipython3",
   "version": "3.7.3"
  }
 },
 "nbformat": 4,
 "nbformat_minor": 2
}
