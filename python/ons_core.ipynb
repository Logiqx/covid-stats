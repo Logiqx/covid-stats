{
 "cells": [
  {
   "cell_type": "markdown",
   "metadata": {},
   "source": [
    "# ONS Core\n",
    "\n",
    "Created by Michael George (AKA Logiqx)\n",
    "\n",
    "Website: https://logiqx.github.io/covid-stats/"
   ]
  },
  {
   "cell_type": "markdown",
   "metadata": {},
   "source": [
    "## Imports\n",
    "\n",
    "Standard python libraries plus determination of projdir, basic printable class, etc"
   ]
  },
  {
   "cell_type": "code",
   "execution_count": 1,
   "metadata": {},
   "outputs": [],
   "source": [
    "import os\n",
    "from datetime import date, datetime, timedelta\n",
    "\n",
    "import numpy as np\n",
    "\n",
    "import unittest\n",
    "\n",
    "import common_core"
   ]
  },
  {
   "cell_type": "markdown",
   "metadata": {},
   "source": [
    "## Configuration\n",
    "\n",
    "Data to download from the NHS statistical work area"
   ]
  },
  {
   "cell_type": "code",
   "execution_count": 2,
   "metadata": {},
   "outputs": [],
   "source": [
    "# The latest ONS age bands\n",
    "ageDemographics = [\n",
    "    '<1', '1-4', '5-9', '10-14', '15-19', '20-24', '25-29',\n",
    "    '30-34', '35-39', '40-44', '45-49', '50-54', '55-59',\n",
    "    '60-64', '65-69', '70-74', '75-79', '80-84', '85-89', '90+'\n",
    "]\n",
    "\n",
    "# The legacy ONS age bands\n",
    "legacyAgeDemographics = [\n",
    "    '01-14', '15-44', '45-64', '65-74', '75-84', '85+'\n",
    "]"
   ]
  },
  {
   "cell_type": "markdown",
   "metadata": {},
   "source": [
    "## Constants\n",
    "\n",
    "Text strings to avoid hard-coded values throughout the code; avoids clutter and silent errors."
   ]
  },
  {
   "cell_type": "code",
   "execution_count": 3,
   "metadata": {},
   "outputs": [],
   "source": [
    "# Index from Fri 2 Jan 1970\n",
    "minWeek = date(1970, 1, 2)\n",
    "maxWeek = date(datetime.now().year, 12, 31)"
   ]
  },
  {
   "cell_type": "code",
   "execution_count": 4,
   "metadata": {},
   "outputs": [],
   "source": [
    "# Weeks have an end date and a number, always ending on Fridays\n",
    "WEEK_ENDED = \"week_ended\"\n",
    "WEEK_NUMBER = \"week_number\"\n",
    "\n",
    "# Internal names used by the cache\n",
    "WEEK_COL_NOS = \"week_col_nos\"\n",
    "WEEK_NUMBERS = \"week_numbers\"\n",
    "WEEK_ENDINGS = \"week_endings\"\n",
    "WEEK_OFFSETS = \"week_offsets\"\n",
    "\n",
    "# Deaths are reported by registration date and occurrence date\n",
    "TOTAL_REGISTRATIONS = \"total_registrations\"\n",
    "TOTAL_OCCURRENCES = \"total_occurrences\"\n",
    "COVID_REGISTRATIONS = \"covid_registrations\"\n",
    "COVID_OCCURRENCES = \"covid_occurrences\"\n",
    "COVID_UNDERLYING = \"covid_underlying\""
   ]
  },
  {
   "cell_type": "code",
   "execution_count": 5,
   "metadata": {},
   "outputs": [],
   "source": [
    "ONS_DEATHS = \"ons-deaths\"\n",
    "ONS_LAHB_DEATHS = \"ons-lahb-deaths\"\n",
    "ONS_EWM_DEATHS = \"ons-ewm-deaths\""
   ]
  },
  {
   "cell_type": "markdown",
   "metadata": {},
   "source": [
    "## Date Helper Functions\n",
    "\n",
    "Functions to calculate week endings, etc."
   ]
  },
  {
   "cell_type": "code",
   "execution_count": 6,
   "metadata": {},
   "outputs": [],
   "source": [
    "def getFirstFriday(year):\n",
    "    '''Get the first Friday of the year'''\n",
    "\n",
    "    # Week 1 ends on/after Jan 2nd\n",
    "    epoch = datetime.strptime(f\"{year}-01-02\", '%Y-%m-%d').date()\n",
    "    while epoch.weekday() != 4:\n",
    "        epoch += timedelta(days=1)\n",
    "\n",
    "    return epoch\n",
    "\n",
    "\n",
    "def getWeekEnded(year, weekNo):\n",
    "    '''Get the Friday for specific week ended in a given year'''\n",
    "    \n",
    "    weekEnded = getFirstFriday(year)\n",
    "    weekEnded += timedelta(weeks=weekNo - 1)\n",
    "    \n",
    "    return(weekEnded)"
   ]
  },
  {
   "cell_type": "markdown",
   "metadata": {},
   "source": [
    "## Load CSV Files\n",
    "\n",
    "Load CSV data into cache"
   ]
  },
  {
   "cell_type": "code",
   "execution_count": 7,
   "metadata": {},
   "outputs": [],
   "source": [
    "def loadCsvFile(folder, period, areaType, areaName, verbose=common_core.verbose):\n",
    "    '''Load weekly registrations and occurrences for a single area into cache'''\n",
    "\n",
    "    csvPath = os.path.join(common_core.dataDir, folder, \"csv\", period, areaType)\n",
    "    csvFn = os.path.join(csvPath, common_core.getSafeName(areaName) + \".csv\")\n",
    "\n",
    "    if os.path.exists(csvFn):\n",
    "        data = common_core.loadCsvIntoArray(csvFn, verbose = verbose)\n",
    "    else:\n",
    "        data = None\n",
    "\n",
    "    return data\n",
    "\n",
    "\n",
    "def loadCsvFiles(folder, period, verbose=common_core.verbose):\n",
    "    '''Load weekly registrations and occurrences for all areas into cache'''\n",
    "\n",
    "    cache = {}\n",
    "\n",
    "    for nationName in common_core.nationNames:\n",
    "        data = loadCsvFile(folder, period, \"nation\", nationName, verbose = verbose)\n",
    "        if data is not None:\n",
    "            cache[nationName] = data\n",
    "\n",
    "    for regionName in common_core.regionNames:\n",
    "        data = loadCsvFile(folder, period, \"region\", regionName, verbose = verbose)\n",
    "        if data is not None:\n",
    "            cache[regionName] = data\n",
    "\n",
    "    return cache"
   ]
  },
  {
   "cell_type": "markdown",
   "metadata": {},
   "source": [
    "## NumPy Helper Functions\n",
    "\n",
    "Useful functionality such as moving average or rolling sum"
   ]
  },
  {
   "cell_type": "code",
   "execution_count": 8,
   "metadata": {},
   "outputs": [],
   "source": [
    "def shiftRegistrations(data):\n",
    "    \"\"\"Shift registration data left by half a period\"\"\"\n",
    "\n",
    "    # Final value is invalid (so not included in the convolution result) and needs to be zero\n",
    "    result = np.append(np.convolve(data, np.array([0.5, 0.5]), mode=\"valid\"), 0)\n",
    "\n",
    "    return result"
   ]
  },
  {
   "cell_type": "code",
   "execution_count": 9,
   "metadata": {},
   "outputs": [],
   "source": [
    "class TestShiftRegistrations(unittest.TestCase):\n",
    "    '''Class to test rollingSum function'''\n",
    "\n",
    "    def testShift(self):\n",
    "        '''Test processing of a list shorter than the window size'''\n",
    "\n",
    "        actual = shiftRegistrations(np.arange(6))\n",
    "        expected = np.array([0.5, 1.5, 2.5, 3.5, 4.5, 0])\n",
    "\n",
    "        self.assertEqual((actual == expected).all(), True)"
   ]
  },
  {
   "cell_type": "markdown",
   "metadata": {},
   "source": [
    "## Automated Testing"
   ]
  },
  {
   "cell_type": "code",
   "execution_count": 10,
   "metadata": {},
   "outputs": [
    {
     "name": "stderr",
     "output_type": "stream",
     "text": [
      ".\n",
      "----------------------------------------------------------------------\n",
      "Ran 1 test in 0.003s\n",
      "\n",
      "OK\n"
     ]
    }
   ],
   "source": [
    "if __name__ == '__main__':\n",
    "\n",
    "    unittest.main(argv=['first-arg-is-ignored'], exit=False)"
   ]
  }
 ],
 "metadata": {
  "kernelspec": {
   "display_name": "Python 3",
   "language": "python",
   "name": "python3"
  },
  "language_info": {
   "codemirror_mode": {
    "name": "ipython",
    "version": 3
   },
   "file_extension": ".py",
   "mimetype": "text/x-python",
   "name": "python",
   "nbconvert_exporter": "python",
   "pygments_lexer": "ipython3",
   "version": "3.8.8"
  }
 },
 "nbformat": 4,
 "nbformat_minor": 2
}
