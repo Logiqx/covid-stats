{
 "cells": [
  {
   "cell_type": "markdown",
   "metadata": {},
   "source": [
    "# ONS Core\n",
    "\n",
    "Created by Michael George (AKA Logiqx)\n",
    "\n",
    "Website: https://logiqx.github.io/covid-stats/"
   ]
  },
  {
   "cell_type": "markdown",
   "metadata": {},
   "source": [
    "## Imports\n",
    "\n",
    "Standard python libraries plus determination of projdir, basic printable class, etc"
   ]
  },
  {
   "cell_type": "code",
   "execution_count": 1,
   "metadata": {},
   "outputs": [],
   "source": [
    "import os\n",
    "import csv\n",
    "\n",
    "import common_core"
   ]
  },
  {
   "cell_type": "markdown",
   "metadata": {},
   "source": [
    "## Configuration\n",
    "\n",
    "Data to download from the NHS statistical work area"
   ]
  },
  {
   "cell_type": "code",
   "execution_count": 2,
   "metadata": {},
   "outputs": [
    {
     "ename": "AttributeError",
     "evalue": "module 'common_core' has no attribute 'nationNames'",
     "output_type": "error",
     "traceback": [
      "\u001b[0;31m---------------------------------------------------------------------------\u001b[0m",
      "\u001b[0;31mAttributeError\u001b[0m                            Traceback (most recent call last)",
      "\u001b[0;32m<ipython-input-2-892d73e2ad2c>\u001b[0m in \u001b[0;36m<module>\u001b[0;34m\u001b[0m\n\u001b[1;32m      1\u001b[0m \u001b[0;31m# The 4 nations in the UK\u001b[0m\u001b[0;34m\u001b[0m\u001b[0;34m\u001b[0m\u001b[0;34m\u001b[0m\u001b[0m\n\u001b[0;32m----> 2\u001b[0;31m \u001b[0mnationNames\u001b[0m \u001b[0;34m=\u001b[0m \u001b[0mcommon_core\u001b[0m\u001b[0;34m.\u001b[0m\u001b[0mnationNames\u001b[0m\u001b[0;34m\u001b[0m\u001b[0;34m\u001b[0m\u001b[0m\n\u001b[0m\u001b[1;32m      3\u001b[0m \u001b[0;34m\u001b[0m\u001b[0m\n\u001b[1;32m      4\u001b[0m \u001b[0;31m# The 9 regions in England\u001b[0m\u001b[0;34m\u001b[0m\u001b[0;34m\u001b[0m\u001b[0;34m\u001b[0m\u001b[0m\n\u001b[1;32m      5\u001b[0m \u001b[0mregionNames\u001b[0m \u001b[0;34m=\u001b[0m \u001b[0mcommon_core\u001b[0m\u001b[0;34m.\u001b[0m\u001b[0mregionNames\u001b[0m\u001b[0;34m\u001b[0m\u001b[0;34m\u001b[0m\u001b[0m\n",
      "\u001b[0;31mAttributeError\u001b[0m: module 'common_core' has no attribute 'nationNames'"
     ]
    }
   ],
   "source": [
    "# The 4 nations in the UK\n",
    "nationNames = common_core.nationNames\n",
    "\n",
    "# The 9 regions in England\n",
    "regionNames = common_core.regionNames\n",
    "\n",
    "# Combine all of these area types into a single list\n",
    "areas = [(\"nation\", [\"England\"]), (\"region\", regionNames)]"
   ]
  },
  {
   "cell_type": "code",
   "execution_count": null,
   "metadata": {},
   "outputs": [],
   "source": [
    "# The latest ONS age bands\n",
    "ageDemographics = [\n",
    "    '<1', '1-4', '5-9', '10-14', '15-19', '20-24', '25-29',\n",
    "    '30-34', '35-39', '40-44', '45-49', '50-54', '55-59',\n",
    "    '60-64', '65-69', '70-74', '75-79', '80-84', '85-89', '90+'\n",
    "]\n",
    "\n",
    "# The legacy ONS age bands\n",
    "legacyAgeDemographics = [\n",
    "    '01-14', '15-44', '45-64', '65-74', '75-84', '85+'\n",
    "]"
   ]
  },
  {
   "cell_type": "code",
   "execution_count": null,
   "metadata": {},
   "outputs": [],
   "source": [
    "deathsUrl = \"https://www.ons.gov.uk/peoplepopulationandcommunity/birthsdeathsandmarriages/deaths/datasets/weeklyprovisionalfiguresondeathsregisteredinenglandandwales\"\n",
    "deathsPath = os.path.join(common_core.projdir, \"data\", \"ons-deaths\", \"raw\")\n",
    "\n",
    "deathsFiles = [\n",
    "    (\"weekly\", \".*\\.xls$\"),\n",
    "    (\"weekly\", \".*\\.xlsx$\")\n",
    "]"
   ]
  },
  {
   "cell_type": "markdown",
   "metadata": {},
   "source": [
    "## Download Data\n",
    "\n",
    "Download spreadsheets by parsing the HTML for suitable links"
   ]
  },
  {
   "cell_type": "code",
   "execution_count": null,
   "metadata": {},
   "outputs": [],
   "source": [
    "def downloadDeaths(skipExisting=common_core.skipExisting, verbose=common_core.verbose):\n",
    "    webDownload = common_core.WebDownload(skipExisting=skipExisting, verbose=verbose)\n",
    "    files = webDownload.downloadFiles(deathsPath, deathsUrl, deathsFiles)\n",
    "    return files"
   ]
  },
  {
   "cell_type": "code",
   "execution_count": null,
   "metadata": {},
   "outputs": [],
   "source": []
  }
 ],
 "metadata": {
  "kernelspec": {
   "display_name": "Python 3",
   "language": "python",
   "name": "python3"
  },
  "language_info": {
   "codemirror_mode": {
    "name": "ipython",
    "version": 3
   },
   "file_extension": ".py",
   "mimetype": "text/x-python",
   "name": "python",
   "nbconvert_exporter": "python",
   "pygments_lexer": "ipython3",
   "version": "3.7.3"
  }
 },
 "nbformat": 4,
 "nbformat_minor": 2
}
