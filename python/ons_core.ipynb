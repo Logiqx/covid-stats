{
 "cells": [
  {
   "cell_type": "markdown",
   "metadata": {},
   "source": [
    "# ONS Core\n",
    "\n",
    "Created by Michael George (AKA Logiqx)\n",
    "\n",
    "Website: https://logiqx.github.io/covid-stats/"
   ]
  },
  {
   "cell_type": "markdown",
   "metadata": {},
   "source": [
    "## Imports\n",
    "\n",
    "Standard python libraries plus determination of projdir, basic printable class, etc"
   ]
  },
  {
   "cell_type": "code",
   "execution_count": 1,
   "metadata": {},
   "outputs": [],
   "source": [
    "import os\n",
    "from datetime import date, datetime, timedelta\n",
    "\n",
    "import numpy as np\n",
    "\n",
    "import unittest\n",
    "\n",
    "import common_core"
   ]
  },
  {
   "cell_type": "markdown",
   "metadata": {},
   "source": [
    "## Configuration\n",
    "\n",
    "Data to download from the NHS statistical work area"
   ]
  },
  {
   "cell_type": "code",
   "execution_count": 2,
   "metadata": {},
   "outputs": [],
   "source": [
    "# The latest ONS age bands\n",
    "ageDemographics = [\n",
    "    '<1', '1-4', '5-9', '10-14', '15-19', '20-24', '25-29',\n",
    "    '30-34', '35-39', '40-44', '45-49', '50-54', '55-59',\n",
    "    '60-64', '65-69', '70-74', '75-79', '80-84', '85-89', '90+'\n",
    "]\n",
    "\n",
    "# The legacy ONS age bands\n",
    "legacyAgeDemographics = [\n",
    "    '01-14', '15-44', '45-64', '65-74', '75-84', '85+'\n",
    "]"
   ]
  },
  {
   "cell_type": "markdown",
   "metadata": {},
   "source": [
    "## Constants\n",
    "\n",
    "Text strings to avoid hard-coded values throughout the code; avoids clutter and silent errors."
   ]
  },
  {
   "cell_type": "code",
   "execution_count": 3,
   "metadata": {},
   "outputs": [],
   "source": [
    "# Index from Fri 2 Jan 1970\n",
    "minWeek = date(1970, 1, 2)\n",
    "maxWeek = date(datetime.now().year, 12, 31)"
   ]
  },
  {
   "cell_type": "code",
   "execution_count": 4,
   "metadata": {},
   "outputs": [],
   "source": [
    "# Weeks have an end date and a number, always ending on Fridays\n",
    "WEEK_ENDED = \"week_ended\"\n",
    "WEEK_NUMBER = \"week_number\"\n",
    "\n",
    "# Internal names used by the cache\n",
    "WEEK_COL_NOS = \"week_col_nos\"\n",
    "WEEK_NUMBERS = \"week_numbers\"\n",
    "WEEK_ENDINGS = \"week_endings\"\n",
    "WEEK_OFFSETS = \"week_offsets\"\n",
    "\n",
    "# Deaths are reported by registration date and occurrence date\n",
    "TOTAL_REGISTRATIONS = \"total_registrations\"\n",
    "TOTAL_OCCURRENCES = \"total_occurrences\"\n",
    "COVID_REGISTRATIONS = \"covid_registrations\"\n",
    "COVID_OCCURRENCES = \"covid_occurrences\"\n",
    "COVID_UNDERLYING = \"covid_underlying\""
   ]
  },
  {
   "cell_type": "code",
   "execution_count": 5,
   "metadata": {},
   "outputs": [],
   "source": [
    "ONS_DEATHS = \"ons-deaths\"\n",
    "ONS_LAHB_DEATHS = \"ons-lahb-deaths\"\n",
    "ONS_EWM_DEATHS = \"ons-ewm-deaths\""
   ]
  },
  {
   "cell_type": "markdown",
   "metadata": {},
   "source": [
    "## Date Helper Functions\n",
    "\n",
    "Functions to calculate week endings, etc."
   ]
  },
  {
   "cell_type": "code",
   "execution_count": 6,
   "metadata": {},
   "outputs": [],
   "source": [
    "def getFirstFriday(year):\n",
    "    '''Get the first Friday of the year'''\n",
    "\n",
    "    # Week 1 ends on/after Jan 2nd\n",
    "    epoch = datetime.strptime(f\"{year}-01-02\", '%Y-%m-%d').date()\n",
    "    while epoch.weekday() != 4:\n",
    "        epoch += timedelta(days=1)\n",
    "\n",
    "    return epoch"
   ]
  },
  {
   "cell_type": "code",
   "execution_count": 7,
   "metadata": {},
   "outputs": [],
   "source": [
    "class TestGetFirstFriday(unittest.TestCase):\n",
    "    '''Class to test getFirstFriday function'''\n",
    "\n",
    "    def test(self):\n",
    "        '''Test range of years'''\n",
    "\n",
    "        # Test with 12 years, rather than a full 28 year cycle\n",
    "        self.assertEqual(getFirstFriday(2010), date(2010, 1, 8))\n",
    "        self.assertEqual(getFirstFriday(2011), date(2011, 1, 7))\n",
    "        self.assertEqual(getFirstFriday(2012), date(2012, 1, 6))\n",
    "        self.assertEqual(getFirstFriday(2013), date(2013, 1, 4))\n",
    "        self.assertEqual(getFirstFriday(2014), date(2014, 1, 3))\n",
    "        self.assertEqual(getFirstFriday(2015), date(2015, 1, 2))\n",
    "        self.assertEqual(getFirstFriday(2016), date(2016, 1, 8))\n",
    "        self.assertEqual(getFirstFriday(2017), date(2017, 1, 6))\n",
    "        self.assertEqual(getFirstFriday(2018), date(2018, 1, 5))\n",
    "        self.assertEqual(getFirstFriday(2019), date(2019, 1, 4))\n",
    "        self.assertEqual(getFirstFriday(2020), date(2020, 1, 3))\n",
    "        self.assertEqual(getFirstFriday(2021), date(2021, 1, 8))"
   ]
  },
  {
   "cell_type": "code",
   "execution_count": 8,
   "metadata": {},
   "outputs": [],
   "source": [
    "def getWeekEnded(year, weekNo):\n",
    "    '''Get the Friday for specific week ended in a given year'''\n",
    "    \n",
    "    weekEnded = getFirstFriday(year)\n",
    "    weekEnded += timedelta(weeks=weekNo - 1)\n",
    "    \n",
    "    return(weekEnded.strftime(\"%Y-%m-%d\"))"
   ]
  },
  {
   "cell_type": "code",
   "execution_count": 9,
   "metadata": {},
   "outputs": [],
   "source": [
    "class TestGetWeekEnded(unittest.TestCase):\n",
    "    '''Class to test getWeekEnded function'''\n",
    "\n",
    "    def testWeek1(self):\n",
    "        '''Test week 1'''\n",
    "\n",
    "        self.assertEqual(getWeekEnded(2010, 1), '2010-01-08')\n",
    "        self.assertEqual(getWeekEnded(2011, 1), '2011-01-07')\n",
    "        self.assertEqual(getWeekEnded(2012, 1), '2012-01-06')\n",
    "        self.assertEqual(getWeekEnded(2013, 1), '2013-01-04')\n",
    "        self.assertEqual(getWeekEnded(2014, 1), '2014-01-03')\n",
    "        self.assertEqual(getWeekEnded(2015, 1), '2015-01-02')\n",
    "        self.assertEqual(getWeekEnded(2016, 1), '2016-01-08')\n",
    "        self.assertEqual(getWeekEnded(2017, 1), '2017-01-06')\n",
    "        self.assertEqual(getWeekEnded(2018, 1), '2018-01-05')\n",
    "        self.assertEqual(getWeekEnded(2019, 1), '2019-01-04')\n",
    "        self.assertEqual(getWeekEnded(2020, 1), '2020-01-03')\n",
    "        self.assertEqual(getWeekEnded(2021, 1), '2021-01-08')\n",
    "\n",
    "    def testWeek52(self):\n",
    "        '''Test week 52'''\n",
    "\n",
    "        self.assertEqual(getWeekEnded(2010, 52), '2010-12-31')\n",
    "        self.assertEqual(getWeekEnded(2011, 52), '2011-12-30')\n",
    "        self.assertEqual(getWeekEnded(2012, 52), '2012-12-28')\n",
    "        self.assertEqual(getWeekEnded(2013, 52), '2013-12-27')\n",
    "        self.assertEqual(getWeekEnded(2014, 52), '2014-12-26')\n",
    "        self.assertEqual(getWeekEnded(2015, 52), '2015-12-25')\n",
    "        self.assertEqual(getWeekEnded(2016, 52), '2016-12-30')\n",
    "        self.assertEqual(getWeekEnded(2017, 52), '2017-12-29')\n",
    "        self.assertEqual(getWeekEnded(2018, 52), '2018-12-28')\n",
    "        self.assertEqual(getWeekEnded(2019, 52), '2019-12-27')\n",
    "        self.assertEqual(getWeekEnded(2020, 52), '2020-12-25')\n",
    "        self.assertEqual(getWeekEnded(2021, 52), '2021-12-31')\n",
    "\n",
    "    def testWeek53(self):\n",
    "        '''Test week 53'''\n",
    "\n",
    "        self.assertEqual(getWeekEnded(2009, 53), '2010-01-01')\n",
    "        self.assertEqual(getWeekEnded(2015, 53), '2016-01-01')\n",
    "        self.assertEqual(getWeekEnded(2020, 53), '2021-01-01')"
   ]
  },
  {
   "cell_type": "code",
   "execution_count": 10,
   "metadata": {},
   "outputs": [],
   "source": [
    "def checkWeekNo(weekEnded, weekNo):\n",
    "    '''Check that the week number matches the week ended date'''\n",
    "    \n",
    "    year = int(weekEnded[:4])\n",
    "\n",
    "    # Jan 1st cannot be week 1 and is week 53 of the previous year\n",
    "    if weekEnded[:-5] == '01-01':\n",
    "        year -= 1\n",
    "    \n",
    "    if getWeekEnded(year, weekNo) != weekEnded:\n",
    "        raise RuntimeError\n",
    "        \n",
    "    return True"
   ]
  },
  {
   "cell_type": "code",
   "execution_count": 11,
   "metadata": {},
   "outputs": [],
   "source": [
    "class TestCheckWeekNo(unittest.TestCase):\n",
    "    '''Class to test checkWeekNo function'''\n",
    "\n",
    "    def testGood(self):\n",
    "        '''Test some bad dates'''\n",
    "\n",
    "        self.assertEqual(checkWeekNo('2020-09-18', 38), True)\n",
    "\n",
    "    def testBad(self):\n",
    "        '''Test some bad dates'''\n",
    "\n",
    "        self.assertRaises(RuntimeError, checkWeekNo, '2020-09-18', 37)\n",
    "        self.assertRaises(RuntimeError, checkWeekNo, '2020-09-18', 39)"
   ]
  },
  {
   "cell_type": "markdown",
   "metadata": {},
   "source": [
    "## Load CSV Files\n",
    "\n",
    "Load CSV data into cache"
   ]
  },
  {
   "cell_type": "code",
   "execution_count": 12,
   "metadata": {},
   "outputs": [],
   "source": [
    "def loadCsvFile(folder, period, areaType, areaName, verbose=common_core.verbose):\n",
    "    '''Load weekly registrations and occurrences for a single area into cache'''\n",
    "\n",
    "    csvPath = os.path.join(common_core.dataDir, folder, \"csv\", period, areaType)\n",
    "    csvFn = os.path.join(csvPath, common_core.getSafeName(areaName) + \".csv\")\n",
    "\n",
    "    if os.path.exists(csvFn):\n",
    "        data = common_core.loadCsvIntoArray(csvFn, verbose = verbose)\n",
    "    else:\n",
    "        data = None\n",
    "\n",
    "    return data\n",
    "\n",
    "\n",
    "def loadCsvFiles(folder, period, verbose=common_core.verbose):\n",
    "    '''Load weekly registrations and occurrences for all areas into cache'''\n",
    "\n",
    "    cache = {}\n",
    "\n",
    "    for nationName in common_core.nationNames:\n",
    "        data = loadCsvFile(folder, period, \"nation\", nationName, verbose = verbose)\n",
    "        if data is not None:\n",
    "            cache[nationName] = data\n",
    "\n",
    "    for regionName in common_core.regionNames:\n",
    "        data = loadCsvFile(folder, period, \"region\", regionName, verbose = verbose)\n",
    "        if data is not None:\n",
    "            cache[regionName] = data\n",
    "\n",
    "    return cache"
   ]
  },
  {
   "cell_type": "markdown",
   "metadata": {},
   "source": [
    "## NumPy Helper Functions\n",
    "\n",
    "Useful functionality such as moving average or rolling sum"
   ]
  },
  {
   "cell_type": "code",
   "execution_count": 13,
   "metadata": {},
   "outputs": [],
   "source": [
    "def shiftRegistrations(data):\n",
    "    \"\"\"Shift registration data left by half a period\"\"\"\n",
    "\n",
    "    # Final value is invalid (so not included in the convolution result) and needs to be zero\n",
    "    result = np.append(np.convolve(data, np.array([0.5, 0.5]), mode=\"valid\"), 0)\n",
    "\n",
    "    return result"
   ]
  },
  {
   "cell_type": "code",
   "execution_count": 14,
   "metadata": {},
   "outputs": [],
   "source": [
    "class TestShiftRegistrations(unittest.TestCase):\n",
    "    '''Class to test rollingSum function'''\n",
    "\n",
    "    def testShift(self):\n",
    "        '''Test processing of a list shorter than the window size'''\n",
    "\n",
    "        actual = shiftRegistrations(np.arange(6))\n",
    "        expected = np.array([0.5, 1.5, 2.5, 3.5, 4.5, 0])\n",
    "\n",
    "        self.assertEqual((actual == expected).all(), True)"
   ]
  },
  {
   "cell_type": "markdown",
   "metadata": {},
   "source": [
    "## Automated Testing"
   ]
  },
  {
   "cell_type": "code",
   "execution_count": 15,
   "metadata": {},
   "outputs": [
    {
     "name": "stderr",
     "output_type": "stream",
     "text": [
      ".......\n",
      "----------------------------------------------------------------------\n",
      "Ran 7 tests in 0.017s\n",
      "\n",
      "OK\n"
     ]
    }
   ],
   "source": [
    "if __name__ == '__main__':\n",
    "\n",
    "    unittest.main(argv=['first-arg-is-ignored'], exit=False)"
   ]
  }
 ],
 "metadata": {
  "kernelspec": {
   "display_name": "Python 3",
   "language": "python",
   "name": "python3"
  },
  "language_info": {
   "codemirror_mode": {
    "name": "ipython",
    "version": 3
   },
   "file_extension": ".py",
   "mimetype": "text/x-python",
   "name": "python",
   "nbconvert_exporter": "python",
   "pygments_lexer": "ipython3",
   "version": "3.8.8"
  }
 },
 "nbformat": 4,
 "nbformat_minor": 2
}
