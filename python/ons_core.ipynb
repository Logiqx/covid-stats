{
 "cells": [
  {
   "cell_type": "markdown",
   "metadata": {},
   "source": [
    "# ONS Core\n",
    "\n",
    "Created by Michael George (AKA Logiqx)\n",
    "\n",
    "Website: https://logiqx.github.io/covid-stats/"
   ]
  },
  {
   "cell_type": "markdown",
   "metadata": {},
   "source": [
    "## Imports\n",
    "\n",
    "Standard python libraries plus determination of projdir, basic printable class, etc"
   ]
  },
  {
   "cell_type": "code",
   "execution_count": 1,
   "metadata": {},
   "outputs": [],
   "source": [
    "import os\n",
    "from datetime import date, datetime\n",
    "\n",
    "import common_core"
   ]
  },
  {
   "cell_type": "markdown",
   "metadata": {},
   "source": [
    "## Configuration\n",
    "\n",
    "Data to download from the NHS statistical work area"
   ]
  },
  {
   "cell_type": "code",
   "execution_count": 2,
   "metadata": {},
   "outputs": [],
   "source": [
    "# The latest ONS age bands\n",
    "ageDemographics = [\n",
    "    '<1', '1-4', '5-9', '10-14', '15-19', '20-24', '25-29',\n",
    "    '30-34', '35-39', '40-44', '45-49', '50-54', '55-59',\n",
    "    '60-64', '65-69', '70-74', '75-79', '80-84', '85-89', '90+'\n",
    "]\n",
    "\n",
    "# The legacy ONS age bands\n",
    "legacyAgeDemographics = [\n",
    "    '01-14', '15-44', '45-64', '65-74', '75-84', '85+'\n",
    "]"
   ]
  },
  {
   "cell_type": "markdown",
   "metadata": {},
   "source": [
    "## Constants\n",
    "\n",
    "Text strings to avoid hard-coded values throughout the code; avoids clutter and silent errors."
   ]
  },
  {
   "cell_type": "code",
   "execution_count": 3,
   "metadata": {},
   "outputs": [],
   "source": [
    "# Index from Fri 2 Jan 1970\n",
    "minWeek = date(1970, 1, 2)\n",
    "maxWeek = date(datetime.now().year, 12, 31)"
   ]
  },
  {
   "cell_type": "code",
   "execution_count": 4,
   "metadata": {},
   "outputs": [],
   "source": [
    "# Weeks have an end date and a number, always ending on Fridays\n",
    "WEEK_ENDED = \"week_ended\"\n",
    "WEEK_NUMBER = \"week_number\"\n",
    "\n",
    "# Internal names used by the cache\n",
    "WEEK_COL_NOS = \"week_col_nos\"\n",
    "WEEK_NUMBERS = \"week_numbers\"\n",
    "WEEK_ENDINGS = \"week_endings\"\n",
    "WEEK_OFFSETS = \"week_offsets\"\n",
    "\n",
    "# Deaths are reported by registration date and occurrence date\n",
    "TOTAL_REGISTRATIONS = \"total_registrations\"\n",
    "TOTAL_OCCURRENCES = \"total_occurrences\"\n",
    "COVID_REGISTRATIONS = \"covid_registrations\"\n",
    "COVID_OCCURRENCES = \"covid_occurrences\""
   ]
  },
  {
   "cell_type": "code",
   "execution_count": 5,
   "metadata": {},
   "outputs": [],
   "source": [
    "ONS_DEATHS = \"ons-deaths\"\n",
    "ONS_EWM_DEATHS = \"ons-ewm-deaths\""
   ]
  },
  {
   "cell_type": "markdown",
   "metadata": {},
   "source": [
    "## Load CSV Files\n",
    "\n",
    "Load CSV data into cache"
   ]
  },
  {
   "cell_type": "code",
   "execution_count": 6,
   "metadata": {},
   "outputs": [],
   "source": [
    "def loadCsvFile(folder, period, areaType, areaName, verbose=common_core.verbose):\n",
    "    '''Load weekly registrations and occurrences for a single area into cache'''\n",
    "\n",
    "    csvPath = os.path.join(common_core.dataDir, folder, \"csv\", period, areaType)\n",
    "    csvFn = os.path.join(csvPath, common_core.getSafeName(areaName) + \".csv\")\n",
    "\n",
    "    if os.path.exists(csvFn):\n",
    "        data = common_core.loadCsvIntoArray(csvFn, verbose = verbose)\n",
    "    else:\n",
    "        data = None\n",
    "\n",
    "    return data\n",
    "\n",
    "\n",
    "def loadCsvFiles(folder, period, verbose=common_core.verbose):\n",
    "    '''Load weekly registrations and occurrences for all areas into cache'''\n",
    "\n",
    "    cache = {}\n",
    "\n",
    "    for nationName in common_core.nationNames:\n",
    "        data = loadCsvFile(folder, period, \"nation\", nationName, verbose = verbose)\n",
    "        if data is not None:\n",
    "            cache[nationName] = data\n",
    "\n",
    "    for regionName in common_core.regionNames:\n",
    "        data = loadCsvFile(folder, period, \"region\", regionName, verbose = verbose)\n",
    "        if data is not None:\n",
    "            cache[regionName] = data\n",
    "\n",
    "    return cache"
   ]
  },
  {
   "cell_type": "markdown",
   "metadata": {},
   "source": [
    "## Interactive Testing"
   ]
  },
  {
   "cell_type": "code",
   "execution_count": 7,
   "metadata": {},
   "outputs": [],
   "source": [
    "if __name__ == '__main__':\n",
    "    pass"
   ]
  }
 ],
 "metadata": {
  "kernelspec": {
   "display_name": "Python 3",
   "language": "python",
   "name": "python3"
  },
  "language_info": {
   "codemirror_mode": {
    "name": "ipython",
    "version": 3
   },
   "file_extension": ".py",
   "mimetype": "text/x-python",
   "name": "python",
   "nbconvert_exporter": "python",
   "pygments_lexer": "ipython3",
   "version": "3.7.3"
  }
 },
 "nbformat": 4,
 "nbformat_minor": 2
}
