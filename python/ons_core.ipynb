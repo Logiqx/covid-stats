{
 "cells": [
  {
   "cell_type": "markdown",
   "metadata": {},
   "source": [
    "# ONS Core\n",
    "\n",
    "Created by Michael George (AKA Logiqx)\n",
    "\n",
    "Website: https://logiqx.github.io/covid-stats/"
   ]
  },
  {
   "cell_type": "markdown",
   "metadata": {},
   "source": [
    "## Imports\n",
    "\n",
    "Standard python libraries plus determination of projdir, basic printable class, etc"
   ]
  },
  {
   "cell_type": "code",
   "execution_count": 1,
   "metadata": {},
   "outputs": [],
   "source": [
    "import os\n",
    "import csv\n",
    "\n",
    "import common_core"
   ]
  },
  {
   "cell_type": "markdown",
   "metadata": {},
   "source": [
    "## Configuration\n",
    "\n",
    "Data to download from the NHS statistical work area"
   ]
  },
  {
   "cell_type": "code",
   "execution_count": 2,
   "metadata": {},
   "outputs": [],
   "source": [
    "# Only using England for now due to the availability of age demographics, etc\n",
    "nationNames = [\"England\"]\n",
    "\n",
    "# All 7 NHS regions in England\n",
    "nhsRegionNames = [\"North West\", \"North East and Yorkshire\", \"Midlands\",\n",
    "                  \"East of England\", \"London\", \"South East\", \"South West\"]\n",
    "\n",
    "# Combine all of these area types into a single list\n",
    "areas = [(\"nation\", [\"England\"]), (\"nhsregion\", nhsRegionNames)]"
   ]
  },
  {
   "cell_type": "code",
   "execution_count": 3,
   "metadata": {},
   "outputs": [],
   "source": [
    "skipExisting = True\n",
    "\n",
    "deathsUrl = \"https://www.ons.gov.uk/peoplepopulationandcommunity/birthsdeathsandmarriages/deaths/datasets/weeklyprovisionalfiguresondeathsregisteredinenglandandwales\"\n",
    "deathsPath = os.path.join(common_core.projdir, \"data\", \"ons-deaths\", \"raw\")\n",
    "\n",
    "deathsFiles = [\n",
    "    (\"weekly\", \".*\\.xls$\"),\n",
    "    (\"weekly\", \".*\\.xlsx$\")\n",
    "]"
   ]
  },
  {
   "cell_type": "code",
   "execution_count": 4,
   "metadata": {},
   "outputs": [],
   "source": [
    "ageDemographics = [\n",
    "    '00_04', '05_09', '10_14', '15_19', '20_24', '25_29',\n",
    "    '30_34', '35_39', '40_44', '45_49', '50_54', '55_59',\n",
    "    '60_64', '65_69', '70_74', '75_79', '80_84', '85_89', '90+'\n",
    "]"
   ]
  },
  {
   "cell_type": "markdown",
   "metadata": {},
   "source": [
    "## Download Data\n",
    "\n",
    "Download spreadsheets by parsing the HTML for suitable links"
   ]
  },
  {
   "cell_type": "code",
   "execution_count": 5,
   "metadata": {},
   "outputs": [],
   "source": [
    "def downloadDeaths():\n",
    "    webDownload = common_core.WebDownload(skipExisting=skipExisting)\n",
    "    files = webDownload.downloadFiles(deathsPath, deathsUrl, deathsFiles)"
   ]
  },
  {
   "cell_type": "code",
   "execution_count": 6,
   "metadata": {},
   "outputs": [],
   "source": []
  }
 ],
 "metadata": {
  "kernelspec": {
   "display_name": "Python 3",
   "language": "python",
   "name": "python3"
  },
  "language_info": {
   "codemirror_mode": {
    "name": "ipython",
    "version": 3
   },
   "file_extension": ".py",
   "mimetype": "text/x-python",
   "name": "python",
   "nbconvert_exporter": "python",
   "pygments_lexer": "ipython3",
   "version": "3.7.3"
  }
 },
 "nbformat": 4,
 "nbformat_minor": 2
}
