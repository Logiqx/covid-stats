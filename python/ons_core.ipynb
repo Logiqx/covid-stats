{
 "cells": [
  {
   "cell_type": "markdown",
   "metadata": {},
   "source": [
    "# ONS Core\n",
    "\n",
    "Created by Michael George (AKA Logiqx)\n",
    "\n",
    "Website: https://logiqx.github.io/covid-stats/"
   ]
  },
  {
   "cell_type": "markdown",
   "metadata": {},
   "source": [
    "## Imports\n",
    "\n",
    "Standard python libraries plus determination of projdir, basic printable class, etc"
   ]
  },
  {
   "cell_type": "code",
   "execution_count": 1,
   "metadata": {},
   "outputs": [],
   "source": [
    "import os\n",
    "from datetime import datetime, timedelta\n",
    "\n",
    "import csv\n",
    "from xlrd import open_workbook\n",
    "\n",
    "import common_core"
   ]
  },
  {
   "cell_type": "markdown",
   "metadata": {},
   "source": [
    "## Configuration\n",
    "\n",
    "Data to download from the NHS statistical work area"
   ]
  },
  {
   "cell_type": "code",
   "execution_count": 2,
   "metadata": {},
   "outputs": [],
   "source": [
    "# The 4 nations in the UK\n",
    "nationNames = common_core.nationNames\n",
    "\n",
    "# The 9 regions in England\n",
    "regionNames = common_core.regionNames\n",
    "\n",
    "# Combine all of these area types into a single list\n",
    "areas = [(\"nation\", nationNames), (\"region\", regionNames)]"
   ]
  },
  {
   "cell_type": "code",
   "execution_count": 3,
   "metadata": {},
   "outputs": [],
   "source": [
    "# The latest ONS age bands\n",
    "ageDemographics = [\n",
    "    '<1', '1-4', '5-9', '10-14', '15-19', '20-24', '25-29',\n",
    "    '30-34', '35-39', '40-44', '45-49', '50-54', '55-59',\n",
    "    '60-64', '65-69', '70-74', '75-79', '80-84', '85-89', '90+'\n",
    "]\n",
    "\n",
    "# The legacy ONS age bands\n",
    "legacyAgeDemographics = [\n",
    "    '01-14', '15-44', '45-64', '65-74', '75-84', '85+'\n",
    "]"
   ]
  },
  {
   "cell_type": "code",
   "execution_count": 4,
   "metadata": {},
   "outputs": [],
   "source": [
    "deathsUrl = \"https://www.ons.gov.uk/peoplepopulationandcommunity/birthsdeathsandmarriages/deaths/datasets/weeklyprovisionalfiguresondeathsregisteredinenglandandwales\"\n",
    "deathsPath = os.path.join(common_core.projdir, \"data\", \"ons-deaths\", \"raw\")\n",
    "\n",
    "deathsFiles = [\n",
    "    (\"weekly\", \".*\\.xlsx?$\")\n",
    "]"
   ]
  },
  {
   "cell_type": "markdown",
   "metadata": {},
   "source": [
    "## Download Data\n",
    "\n",
    "Download spreadsheets by parsing the HTML for suitable links"
   ]
  },
  {
   "cell_type": "code",
   "execution_count": 5,
   "metadata": {},
   "outputs": [],
   "source": [
    "def downloadDeaths(skipExisting=common_core.skipExisting, verbose=common_core.verbose):\n",
    "    webDownload = common_core.WebDownload(skipExisting=skipExisting, verbose=verbose)\n",
    "    partNames = webDownload.downloadFiles(deathsPath, deathsUrl, deathsFiles)\n",
    "    return partNames"
   ]
  },
  {
   "cell_type": "markdown",
   "metadata": {},
   "source": [
    "## Convert to CSV"
   ]
  },
  {
   "cell_type": "code",
   "execution_count": 6,
   "metadata": {},
   "outputs": [],
   "source": [
    "WEEK_NUMBER = \"Week number\"\n",
    "WEEK_ENDED = \"Week ended\"\n",
    "\n",
    "def findRowNos(sheet, headings, aliases):\n",
    "    '''Find rows with the specified headings. Also check for possible aliases.'''\n",
    "    rowNos = {}\n",
    "    for heading in headings:\n",
    "        headingLower = heading.lower()\n",
    "\n",
    "        if heading in aliases:\n",
    "            aliasesLower = [alias.lower() for alias in aliases[heading]]\n",
    "        else:\n",
    "            aliasesLower = []\n",
    "\n",
    "        for rowNo in range(sheet.nrows):\n",
    "            for colNo in range(3):\n",
    "                cellValue = sheet.cell(rowNo, colNo).value\n",
    "\n",
    "                if isinstance(cellValue, str):\n",
    "                    cellValueLower = cellValue.lower()\n",
    "                    if cellValueLower == headingLower or cellValueLower in aliasesLower:\n",
    "                        rowNos[heading] = rowNo\n",
    "                        break\n",
    "\n",
    "    return rowNos \n",
    "\n",
    "\n",
    "def getWeekCols(sheet, rowNo):\n",
    "    '''Determine the week numbers from the cells in the specified row.'''\n",
    "    weekCols = []\n",
    "    nextWeekNo = 1\n",
    "    for colNo in range(sheet.ncols):\n",
    "        cellValue = sheet.cell(rowNo, colNo).value\n",
    "        if cellValue == nextWeekNo:\n",
    "            weekCols.append(colNo)\n",
    "            nextWeekNo += 1\n",
    "\n",
    "    return weekCols\n",
    "\n",
    "\n",
    "def getWeekEndings(sheet, rowNo, colNos):\n",
    "    '''Determine the week endings from the cells in the specified row.'''\n",
    "    epoch = datetime(1900, 1, 1)\n",
    "    weekEndings = []\n",
    "    for colNo in colNos:\n",
    "        cellValue = sheet.cell(rowNo, colNo).value\n",
    "        if isinstance(cellValue, str):\n",
    "            weekEnding = datetime.strptime(cellValue, '%d-%b-%y')\n",
    "            weekEndings.append(weekEnding)\n",
    "        else:\n",
    "            weekEnding = epoch + timedelta(days=cellValue - 2)\n",
    "            weekEndings.append(weekEnding)\n",
    "\n",
    "    return weekEndings\n",
    "\n",
    "\n",
    "def getWeeklyDeaths(sheet, rowNo, colNos):\n",
    "    '''Determine the weekly deaths from the cells in the specified row.'''\n",
    "    numDeaths = []\n",
    "    for colNo in colNos:\n",
    "        cellValue = sheet.cell(rowNo, colNo).value\n",
    "        numDeaths.append(int(cellValue))\n",
    "\n",
    "    return numDeaths\n",
    "\n",
    "\n",
    "def processSheet(sheet):\n",
    "    '''Parse the specified worksheet for weekly deaths.'''\n",
    "    cells = 0\n",
    "\n",
    "    headings = [WEEK_NUMBER, WEEK_ENDED] + common_core.regionNames\n",
    "    rowNos = findRowNos(sheet, headings, common_core.regionAliases)\n",
    "    \n",
    "    weekCols = getWeekCols(sheet, rowNos[WEEK_NUMBER])\n",
    "    assert len(weekCols) == 52 or len(weekCols) == 53, \"Number of weeks was not 52 or 53\"\n",
    "\n",
    "    weekEndings = getWeekEndings(sheet, rowNos[WEEK_ENDED], weekCols)\n",
    "    assert len(weekEndings) == len(weekCols), \"Number of week endings did not match number of weeks\"\n",
    "    \n",
    "    for regionName in common_core.regionNames:\n",
    "        weeklyDeaths = getWeeklyDeaths(sheet, rowNos[regionName], weekCols)\n",
    "        assert len(weeklyDeaths) == len(weekCols), f\"{regionName} did not have the correct number of weeks\"\n",
    "\n",
    "\n",
    "def convertDeaths(partNames):\n",
    "    '''Parse the specified spreadsheet for weekly deaths.'''\n",
    "    for partName in partNames:\n",
    "        fileName = os.path.join(common_core.projdir, \"data\", \"ons-deaths\", \"raw\", partName)\n",
    "        print(f\"Parsing {partName}...\")\n",
    "        workbook = open_workbook(fileName)\n",
    "\n",
    "        for sheet in workbook.sheets():           \n",
    "            if sheet.name.lower().startswith(\"weekly figures\"):\n",
    "                processSheet(sheet)"
   ]
  },
  {
   "cell_type": "code",
   "execution_count": 7,
   "metadata": {},
   "outputs": [
    {
     "name": "stdout",
     "output_type": "stream",
     "text": [
      "Parsing weekly/publishedweek532020.xlsx...\n",
      "Parsing weekly/publishedweek522019.xls...\n",
      "Parsing weekly/publishedweek522018withupdatedrespiratoryrow.xls...\n",
      "Parsing weekly/publishedweek522017.xls...\n",
      "Parsing weekly/publishedweek522016.xls...\n",
      "Parsing weekly/publishedweek2015.xls...\n",
      "Parsing weekly/publishedweek2014.xls...\n",
      "Parsing weekly/publishedweek2013.xls...\n",
      "Parsing weekly/publishedweek2012.xls...\n",
      "Parsing weekly/publishedweek2011.xls...\n",
      "Parsing weekly/publishedweek2010.xls...\n"
     ]
    }
   ],
   "source": [
    "partNames = downloadDeaths()\n",
    "\n",
    "convertDeaths(partNames)"
   ]
  },
  {
   "cell_type": "code",
   "execution_count": null,
   "metadata": {},
   "outputs": [],
   "source": []
  }
 ],
 "metadata": {
  "kernelspec": {
   "display_name": "Python 3",
   "language": "python",
   "name": "python3"
  },
  "language_info": {
   "codemirror_mode": {
    "name": "ipython",
    "version": 3
   },
   "file_extension": ".py",
   "mimetype": "text/x-python",
   "name": "python",
   "nbconvert_exporter": "python",
   "pygments_lexer": "ipython3",
   "version": "3.7.3"
  }
 },
 "nbformat": 4,
 "nbformat_minor": 2
}
