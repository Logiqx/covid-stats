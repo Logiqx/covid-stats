{
 "cells": [
  {
   "cell_type": "markdown",
   "metadata": {},
   "source": [
    "# Common Core\n",
    "\n",
    "Created by Michael George (AKA Logiqx)\n",
    "\n",
    "Website: https://logiqx.github.io/covid-stats/"
   ]
  },
  {
   "cell_type": "code",
   "execution_count": 1,
   "metadata": {},
   "outputs": [],
   "source": [
    "import os\n",
    "import sys\n",
    "\n",
    "import urllib.request\n",
    "import re\n",
    "\n",
    "from bs4 import BeautifulSoup\n",
    "\n",
    "projdir = os.path.realpath(os.path.join(sys.path[0], '..'))"
   ]
  },
  {
   "cell_type": "markdown",
   "metadata": {},
   "source": [
    "## Printable Class\n",
    "\n",
    "Simple class that allows other classes to be printed."
   ]
  },
  {
   "cell_type": "code",
   "execution_count": 2,
   "metadata": {},
   "outputs": [],
   "source": [
    "class Printable:\n",
    "    def __repr__(self):\n",
    "        return str(self.__class__) + \": \" + str(self.__dict__)\n",
    "\n",
    "    def __str__(self):\n",
    "        return str(self.__class__) + \": \" + str(self.__dict__)"
   ]
  },
  {
   "cell_type": "markdown",
   "metadata": {},
   "source": [
    "## Download Functions\n",
    "\n",
    "Download spreadsheets by parsing the HTML for suitable links"
   ]
  },
  {
   "cell_type": "code",
   "execution_count": 3,
   "metadata": {},
   "outputs": [],
   "source": [
    "class WebDownload():\n",
    "\n",
    "    def __init__(self, skipExisting=False, skipHistory=False, verbose=False):\n",
    "        \"\"\"Initialisise the area object\"\"\"\n",
    "\n",
    "        self.skipExisting, self.skipHistory, self.verbose = skipExisting, skipHistory, verbose\n",
    "        self.downloaded = []\n",
    "        \n",
    "        \n",
    "    def downloadFile(self, url, fileName):\n",
    "        \"\"\"Download a binary file from the URL provided\"\"\"\n",
    "\n",
    "        if os.path.exists(fileName) and self.skipExisting or fileName in self.downloaded:\n",
    "            if self.verbose:\n",
    "                print(f\"Skipping {os.path.basename(url)}...\")\n",
    "        else:\n",
    "            print(f\"Downloading {os.path.basename(url)}...\")\n",
    "\n",
    "            # Ensure raw path exists\n",
    "            filePath = os.path.dirname(fileName)\n",
    "            if not os.path.exists(filePath):\n",
    "                os.makedirs(filePath)\n",
    "\n",
    "            req = urllib.request.Request(url, headers={'User-Agent': 'Mozilla'})\n",
    "            response = urllib.request.urlopen(req, timeout=60)\n",
    "\n",
    "            with open(fileName, \"wb\") as outfile:\n",
    "                chunk = response.read(4096)\n",
    "                while chunk:\n",
    "                    outfile.write(chunk)\n",
    "                    chunk = response.read(4096)\n",
    "\n",
    "            response.close()\n",
    "            \n",
    "        self.downloaded.append(fileName)\n",
    "\n",
    "\n",
    "    def downloadFiles(self, rawPath, url, patterns, category=None):\n",
    "\n",
    "        req = urllib.request.Request(url, headers={'User-Agent': 'Mozilla'})\n",
    "        response = urllib.request.urlopen(req, timeout=15)\n",
    "\n",
    "        soup = BeautifulSoup(response, \"lxml\")\n",
    "        anchors = soup.find_all(\"a\")\n",
    "\n",
    "        response.close()\n",
    "\n",
    "        for anchor in anchors:\n",
    "            url = anchor.get(\"href\")\n",
    "\n",
    "            for pattern in patterns:\n",
    "                if re.search(pattern[1], url):\n",
    "                    filePath = os.path.join(rawPath, pattern[0])\n",
    "                    if category:\n",
    "                        filePath = os.path.join(filePath, category)\n",
    "                    fileName = os.path.join(filePath, os.path.basename(url))\n",
    "                    self.downloadFile(url, fileName)\n",
    "                    if self.skipHistory:\n",
    "                        break"
   ]
  },
  {
   "cell_type": "code",
   "execution_count": null,
   "metadata": {},
   "outputs": [],
   "source": []
  }
 ],
 "metadata": {
  "kernelspec": {
   "display_name": "Python 3",
   "language": "python",
   "name": "python3"
  },
  "language_info": {
   "codemirror_mode": {
    "name": "ipython",
    "version": 3
   },
   "file_extension": ".py",
   "mimetype": "text/x-python",
   "name": "python",
   "nbconvert_exporter": "python",
   "pygments_lexer": "ipython3",
   "version": "3.7.3"
  }
 },
 "nbformat": 4,
 "nbformat_minor": 2
}
