{
 "cells": [
  {
   "cell_type": "markdown",
   "metadata": {},
   "source": [
    "# Common Core\n",
    "\n",
    "Created by Michael George (AKA Logiqx)\n",
    "\n",
    "Website: https://logiqx.github.io/covid-stats/"
   ]
  },
  {
   "cell_type": "code",
   "execution_count": 1,
   "metadata": {},
   "outputs": [],
   "source": [
    "import os\n",
    "import sys\n",
    "\n",
    "import urllib.request\n",
    "import urllib.parse\n",
    "import re\n",
    "\n",
    "from bs4 import BeautifulSoup\n",
    "\n",
    "projdir = os.path.realpath(os.path.join(sys.path[0], '..'))"
   ]
  },
  {
   "cell_type": "markdown",
   "metadata": {},
   "source": [
    "## Common Definitions\n",
    "\n",
    "e.g. Nation and region names"
   ]
  },
  {
   "cell_type": "code",
   "execution_count": 2,
   "metadata": {},
   "outputs": [],
   "source": [
    "# The 4 nations in the UK\n",
    "nationNames = [\"England\", \"Scotland\", \"Wales\", \"Northern Ireland\"]\n",
    "\n",
    "# The 9 regions in England\n",
    "regionNames = [\"North West\", \"North East\", \"Yorkshire and The Humber\", \"West Midlands\", \"East Midlands\",\n",
    "             \"East of England\", \"London\", \"South East\", \"South West\"]\n",
    "\n",
    "# The aliases for regions in England\n",
    "regionAliases = {\"East of England\": [\"East\"]}"
   ]
  },
  {
   "cell_type": "markdown",
   "metadata": {},
   "source": [
    "## Printable Class\n",
    "\n",
    "Simple class that allows other classes to be printed."
   ]
  },
  {
   "cell_type": "code",
   "execution_count": 3,
   "metadata": {},
   "outputs": [],
   "source": [
    "class Printable:\n",
    "    def __repr__(self):\n",
    "        return str(self.__class__) + \": \" + str(self.__dict__)\n",
    "\n",
    "    def __str__(self):\n",
    "        return str(self.__class__) + \": \" + str(self.__dict__)"
   ]
  },
  {
   "cell_type": "markdown",
   "metadata": {},
   "source": [
    "## Download Functions\n",
    "\n",
    "Download spreadsheets by parsing the HTML for suitable links"
   ]
  },
  {
   "cell_type": "code",
   "execution_count": 4,
   "metadata": {},
   "outputs": [],
   "source": [
    "skipExisting = True\n",
    "skipHistory = False\n",
    "verbose = False\n",
    "\n",
    "class WebDownload():\n",
    "\n",
    "    def __init__(self, skipExisting=skipExisting, skipHistory=skipHistory, verbose=verbose):\n",
    "        \"\"\"Initialisise the area object\"\"\"\n",
    "\n",
    "        self.skipExisting, self.skipHistory, self.verbose = skipExisting, skipHistory, verbose\n",
    "        self.downloaded = {}\n",
    "        \n",
    "        \n",
    "    def downloadFile(self, url, rawDir, subDir):\n",
    "        \"\"\"Download a binary file from the URL provided\"\"\"\n",
    "\n",
    "        baseName = os.path.basename(url)\n",
    "        partName = os.path.join(subDir, baseName)\n",
    "\n",
    "        dirName = os.path.join(rawDir, subDir)\n",
    "        fileName = os.path.join(dirName, baseName)\n",
    "\n",
    "        if (os.path.exists(fileName) or baseName in self.downloaded) and self.skipExisting:\n",
    "            if self.verbose:\n",
    "                print(f\"Skipping {partName}...\")\n",
    "        else:\n",
    "            print(f\"Downloading {partName}...\")\n",
    "\n",
    "            # Ensure raw path exists\n",
    "            if not os.path.exists(dirName):\n",
    "                os.makedirs(dirName)\n",
    "\n",
    "            req = urllib.request.Request(url, headers={'User-Agent': 'Mozilla'})\n",
    "            response = urllib.request.urlopen(req, timeout=60)\n",
    "\n",
    "            with open(fileName, \"wb\") as outfile:\n",
    "                chunk = response.read(4096)\n",
    "                while chunk:\n",
    "                    outfile.write(chunk)\n",
    "                    chunk = response.read(4096)\n",
    "\n",
    "            response.close()\n",
    "\n",
    "        if baseName not in self.downloaded:\n",
    "            self.downloaded[baseName] = partName\n",
    "\n",
    "\n",
    "    def downloadFiles(self, rawDir, url, patterns, category=None):\n",
    "\n",
    "        req = urllib.request.Request(url, headers={'User-Agent': 'Mozilla'})\n",
    "        response = urllib.request.urlopen(req, timeout=15)\n",
    "\n",
    "        soup = BeautifulSoup(response, \"lxml\")\n",
    "        anchors = soup.find_all(\"a\")\n",
    "\n",
    "        response.close()\n",
    "\n",
    "        for anchor in anchors:\n",
    "            href = anchor.get(\"href\")\n",
    "\n",
    "            for pattern in patterns:\n",
    "                if re.search(pattern[1], href):\n",
    "                    url = urllib.parse.urljoin(url, href)\n",
    "\n",
    "                    if category:\n",
    "                        subDir = os.path.join(pattern[0], category)\n",
    "                    else:\n",
    "                        subDir = pattern[0]\n",
    "\n",
    "                    self.downloadFile(url, rawDir, subDir)\n",
    "\n",
    "                    if self.skipHistory:\n",
    "                        break\n",
    "                        \n",
    "        return self.downloaded.values()"
   ]
  },
  {
   "cell_type": "code",
   "execution_count": null,
   "metadata": {},
   "outputs": [],
   "source": []
  }
 ],
 "metadata": {
  "kernelspec": {
   "display_name": "Python 3",
   "language": "python",
   "name": "python3"
  },
  "language_info": {
   "codemirror_mode": {
    "name": "ipython",
    "version": 3
   },
   "file_extension": ".py",
   "mimetype": "text/x-python",
   "name": "python",
   "nbconvert_exporter": "python",
   "pygments_lexer": "ipython3",
   "version": "3.7.3"
  }
 },
 "nbformat": 4,
 "nbformat_minor": 2
}
