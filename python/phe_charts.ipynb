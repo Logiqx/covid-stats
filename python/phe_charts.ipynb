{
 "cells": [
  {
   "cell_type": "markdown",
   "metadata": {},
   "source": [
    "# PHE Daily Cases\n",
    "\n",
    "Created by Michael George (AKA Logiqx)\n",
    "\n",
    "Website: https://logiqx.github.io/covid-stats/"
   ]
  },
  {
   "cell_type": "markdown",
   "metadata": {},
   "source": [
    "## PHE Core\n",
    "\n",
    "Import library for working with PHE data"
   ]
  },
  {
   "cell_type": "code",
   "execution_count": 1,
   "metadata": {},
   "outputs": [],
   "source": [
    "import os\n",
    "import csv\n",
    "\n",
    "import numpy as np\n",
    "import matplotlib.pyplot as plt\n",
    "from scipy.signal import savgol_filter\n",
    "\n",
    "import common_core\n",
    "import phe_core"
   ]
  },
  {
   "cell_type": "markdown",
   "metadata": {},
   "source": [
    "## Area Class\n",
    "\n",
    "Supports a single area - nation, region, ltla, etc"
   ]
  },
  {
   "cell_type": "code",
   "execution_count": 2,
   "metadata": {},
   "outputs": [],
   "source": [
    "class Area(common_core.Printable):\n",
    "\n",
    "    def __init__(self, areaType, areaName):\n",
    "        \"\"\"Initialisise the area object\"\"\"\n",
    "\n",
    "        self.data = {}\n",
    "\n",
    "        self.areaType = areaType\n",
    "        self.areaName = areaName\n",
    "\n",
    "        self.safeName = common_core.getSafeName(areaName)\n",
    "        self.csvName = self.safeName + '.csv'\n",
    "        \n",
    "\n",
    "    def load(self, period, dirName):\n",
    "        \"\"\"Load demographic data - cases or deaths\"\"\"\n",
    "\n",
    "        fileName = os.path.join(common_core.dataDir, phe_core.PHE_DASHBOARD, \"csv\", period, dirName, self.areaType, self.csvName)\n",
    "        partName = common_core.getPartName(fileName)\n",
    "\n",
    "        print(f\"Loading {partName}...\")\n",
    "\n",
    "        try:\n",
    "            with open(fileName, 'r') as f:\n",
    "                reader = csv.reader(f, delimiter = ',')\n",
    "\n",
    "                dtype = []\n",
    "                converters = {}\n",
    "                colNames = next(reader)\n",
    "\n",
    "                for i in range(len(colNames)):\n",
    "                    colName = colNames[i]\n",
    "                    if colName == \"date\":\n",
    "                        dtype.append((colName, \"U10\"))\n",
    "                    elif colName == \"areaName\":\n",
    "                        dtype.append((colName, \"U40\"))\n",
    "                    elif colName.endswith(\"Rate\"):\n",
    "                        dtype.append((colName, \"f8\"))\n",
    "                        converters[i] = lambda s: float(s or 0)\n",
    "                    else:\n",
    "                        dtype.append((colName, \"u4\"))\n",
    "                        converters[i] = lambda s: int(s or 0)\n",
    "\n",
    "                data = np.genfromtxt(f, dtype=dtype, converters=converters, delimiter=\",\")\n",
    "\n",
    "            # Ensure period is present in data arrays\n",
    "            if period not in self.data:\n",
    "                self.data[period] = {}\n",
    "\n",
    "            # Store the data\n",
    "            self.data[period][dirName] = data\n",
    "\n",
    "        # General catch all\n",
    "        except:\n",
    "            print(f\"Failed to load {dirName} for {self.areaName}\")\n",
    "            raise\n",
    "\n",
    "\n",
    "    def loadCases(self):\n",
    "        \"\"\"Load PHE cases data\"\"\"\n",
    "\n",
    "        self.load(\"daily\", \"cases\")\n",
    "            \n",
    "\n",
    "    def loadDeaths(self):\n",
    "        \"\"\"Load PHE deaths data\"\"\"\n",
    "\n",
    "        self.load(\"daily\", \"deaths\")"
   ]
  },
  {
   "cell_type": "markdown",
   "metadata": {},
   "source": [
    "## Areas Class\n",
    "\n",
    "Combines multiple areas - nation, region, ltla, etc"
   ]
  },
  {
   "cell_type": "code",
   "execution_count": 3,
   "metadata": {},
   "outputs": [],
   "source": [
    "class Areas(common_core.Printable):\n",
    "\n",
    "    def __init__(self):\n",
    "        \"\"\"Initialisise the areas object\"\"\"\n",
    "\n",
    "        self.areas = {}\n",
    "\n",
    "    \n",
    "    def addArea(self, areaType, areaName):\n",
    "        \"\"\"Add a new area which can then be loadeded from disk\"\"\"\n",
    "        \n",
    "        area = Area(areaType, areaName)\n",
    "        self.areas[areaName] = area\n",
    "        \n",
    "\n",
    "    def loadArea(self, areaType, areaName):\n",
    "        \"\"\"Load PHE data for a single area\"\"\"\n",
    "        \n",
    "        area = self.areas[areaName]\n",
    "        \n",
    "        area.loadCases()\n",
    "        area.loadDeaths()\n",
    "        \n",
    "\n",
    "    def plotCases(self):\n",
    "        \"\"\"Plot cases by specimen date age demographics\"\"\"\n",
    "        \n",
    "        # Create new figure\n",
    "        plt.figure(clear=True, figsize=(16, 9))  \n",
    "        \n",
    "        # Plot data\n",
    "        for areaName in self.areas:\n",
    "            area = self.areas[areaName]\n",
    "\n",
    "            # Get all value up to the last non-zero\n",
    "            tmp_points = np.array(area.data[\"daily\"][\"cases\"][\"cases\"])\n",
    "            idx = np.max(np.nonzero(tmp_points))\n",
    "            tmp_points = tmp_points[:idx+1-5]\n",
    "\n",
    "            # Calculate moving average using convolve\n",
    "            # consider mode = \"same\" instead of concatenate?\n",
    "            y_points = np.concatenate((np.zeros(3), np.convolve(tmp_points, np.ones(7)/7, mode=\"valid\")))\n",
    "            x_points = np.arange(len(y_points))\n",
    "            x_ticks = np.array(area.data[\"daily\"][\"cases\"][\"date\"])[:idx+1]\n",
    "            \n",
    "            plt.plot(x_points, y_points, label = area.areaName) #, color='green', linewidth=2)\n",
    "\n",
    "        # Set xticks\n",
    "        plt.xticks(np.arange(0, len(x_ticks), step=7), x_ticks[::7], rotation=90)\n",
    "        \n",
    "        # Add title, axis labels and legend\n",
    "        plt.title('Daily Cases Test')\n",
    "        plt.ylabel('Number of cases')\n",
    "        plt.legend()\n",
    "     \n",
    "        # Show figure\n",
    "        plt.show()"
   ]
  },
  {
   "cell_type": "markdown",
   "metadata": {},
   "source": [
    "## Load data into memory"
   ]
  },
  {
   "cell_type": "code",
   "execution_count": 4,
   "metadata": {
    "scrolled": true
   },
   "outputs": [
    {
     "name": "stdout",
     "output_type": "stream",
     "text": [
      "Loading phe-dashboard/csv/daily/cases/region/north_east.csv...\n",
      "Loading phe-dashboard/csv/daily/deaths/region/north_east.csv...\n",
      "Loading phe-dashboard/csv/daily/cases/region/north_west.csv...\n",
      "Loading phe-dashboard/csv/daily/deaths/region/north_west.csv...\n",
      "Loading phe-dashboard/csv/daily/cases/region/yorkshire_humber.csv...\n",
      "Loading phe-dashboard/csv/daily/deaths/region/yorkshire_humber.csv...\n",
      "Loading phe-dashboard/csv/daily/cases/region/east_midlands.csv...\n",
      "Loading phe-dashboard/csv/daily/deaths/region/east_midlands.csv...\n",
      "Loading phe-dashboard/csv/daily/cases/region/west_midlands.csv...\n",
      "Loading phe-dashboard/csv/daily/deaths/region/west_midlands.csv...\n",
      "Loading phe-dashboard/csv/daily/cases/region/east_england.csv...\n",
      "Loading phe-dashboard/csv/daily/deaths/region/east_england.csv...\n",
      "Loading phe-dashboard/csv/daily/cases/region/london.csv...\n",
      "Loading phe-dashboard/csv/daily/deaths/region/london.csv...\n",
      "Loading phe-dashboard/csv/daily/cases/region/south_east.csv...\n",
      "Loading phe-dashboard/csv/daily/deaths/region/south_east.csv...\n",
      "Loading phe-dashboard/csv/daily/cases/region/south_west.csv...\n",
      "Loading phe-dashboard/csv/daily/deaths/region/south_west.csv...\n"
     ]
    }
   ],
   "source": [
    "areas = Areas()\n",
    "\n",
    "for areaType, areaNames in phe_core.areas[2:3]:\n",
    "    for areaName in areaNames:\n",
    "        areas.addArea(areaType, areaName)\n",
    "        areas.loadArea(areaType, areaName)"
   ]
  },
  {
   "cell_type": "markdown",
   "metadata": {},
   "source": [
    "## Plot Daily Cases"
   ]
  },
  {
   "cell_type": "code",
   "execution_count": 5,
   "metadata": {},
   "outputs": [],
   "source": [
    "#areas.plotCases()"
   ]
  },
  {
   "cell_type": "code",
   "execution_count": null,
   "metadata": {},
   "outputs": [],
   "source": []
  }
 ],
 "metadata": {
  "kernelspec": {
   "display_name": "Python 3",
   "language": "python",
   "name": "python3"
  },
  "language_info": {
   "codemirror_mode": {
    "name": "ipython",
    "version": 3
   },
   "file_extension": ".py",
   "mimetype": "text/x-python",
   "name": "python",
   "nbconvert_exporter": "python",
   "pygments_lexer": "ipython3",
   "version": "3.7.3"
  }
 },
 "nbformat": 4,
 "nbformat_minor": 2
}
